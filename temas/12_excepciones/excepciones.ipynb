{
 "cells": [
  {
   "cell_type": "markdown",
   "metadata": {},
   "source": [
    "# Excepciones\n",
    "Durante la ejecución de un programa, si dentro de una función surge una excepción y la función no la maneja, la excepción se propaga hacia la función que la invocó, si esta otra tampoco la maneja, la excepción continúa propagándose hasta llegar a la función inicial del programa y si esta tampoco la maneja se interrumpe la ejecución del programa.  \n",
    "Para el manejo de excepciones los lenguajes proveen ciertas palabras reservadas, que nos permiten manejar las excepciones que puedan surgir y tomar acciones de recuperación para evitar la interrupción del programa o, al menos, para realizar algunas acciones adicionales antes de interrumpir el programa.\n",
    "En el caso de Python, el manejo de excepciones se hace mediante los bloques que utilizan las sentencias.  \n",
    "```py\n",
    "                        try:\n",
    "                            #instrucción\n",
    "                        except:\n",
    "                            # Manejo del error\n",
    "                        finally:\n",
    "                            # Acciones de limpieza\n",
    "```\n",
    "[Documentación Python - ES](https://tutorial.python.org.ar/en/latest/errors.html)  \n",
    "[Documentación Python](https://docs.python.org/3/library/exceptions.html)"
   ]
  },
  {
   "cell_type": "code",
   "execution_count": 15,
   "metadata": {},
   "outputs": [
    {
     "name": "stdout",
     "output_type": "stream",
     "text": [
      "Error al dividir\n",
      "Error al dividir\n",
      "Error al dividir\n",
      "0.8333333333333334\n"
     ]
    }
   ],
   "source": [
    "import sys\n",
    "div = 0\n",
    "while True:\n",
    "    try:\n",
    "        n1 = int(input(\"Ingresa n1\"))\n",
    "        n2 = int(input(\"Ingresa n2\"))\n",
    "        div = n1/n2\n",
    "        break\n",
    "    except:\n",
    "        print(\"Error al dividir\")\n",
    "    \n",
    "print(div)"
   ]
  },
  {
   "cell_type": "code",
   "execution_count": null,
   "metadata": {},
   "outputs": [],
   "source": []
  }
 ],
 "metadata": {
  "kernelspec": {
   "display_name": "Python 3.10.4 64-bit",
   "language": "python",
   "name": "python3"
  },
  "language_info": {
   "codemirror_mode": {
    "name": "ipython",
    "version": 3
   },
   "file_extension": ".py",
   "mimetype": "text/x-python",
   "name": "python",
   "nbconvert_exporter": "python",
   "pygments_lexer": "ipython3",
   "version": "3.10.4"
  },
  "orig_nbformat": 4,
  "vscode": {
   "interpreter": {
    "hash": "9524c4952dd211fec7df7c73b3afac2dbc89a267f70352ce6257a0999e7cce99"
   }
  }
 },
 "nbformat": 4,
 "nbformat_minor": 2
}

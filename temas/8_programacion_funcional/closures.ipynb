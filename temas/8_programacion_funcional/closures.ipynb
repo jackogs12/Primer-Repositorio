{
 "cells": [
  {
   "cell_type": "markdown",
   "metadata": {},
   "source": [
    "# Funciones de primera clase"
   ]
  },
  {
   "cell_type": "code",
   "execution_count": 2,
   "metadata": {},
   "outputs": [],
   "source": [
    "def multiplica_por(factor):\n",
    "    def interna(valor):\n",
    "        return valor * factor\n",
    "    return interna"
   ]
  },
  {
   "cell_type": "code",
   "execution_count": 3,
   "metadata": {},
   "outputs": [],
   "source": [
    "multiplos_de_2 = multiplica_por(2)\n",
    "multiplos_de_3 = multiplica_por(3)\n",
    "multiplos_de_4 = multiplica_por(4)\n",
    "multiplos_de_5 = multiplica_por(5)"
   ]
  },
  {
   "cell_type": "code",
   "execution_count": 6,
   "metadata": {},
   "outputs": [
    {
     "name": "stdout",
     "output_type": "stream",
     "text": [
      "2,4,6,8,10,12,14,16,18,20,\n",
      "3,6,9,12,15,18,21,24,27,30,\n",
      "4,8,12,16,20,24,28,32,36,40,\n",
      "5,10,15,20,25,30,35,40,45,50,"
     ]
    }
   ],
   "source": [
    "for i in range(1,11):\n",
    "    print(multiplos_de_2(i),end=\",\")\n",
    "print()\n",
    "for i in range(1,11):\n",
    "    print(multiplos_de_3(i),end=\",\")\n",
    "print()\n",
    "for i in range(1,11):\n",
    "    print(multiplos_de_4(i),end=\",\")\n",
    "print()\n",
    "for i in range(1,11):\n",
    "    print(multiplos_de_5(i),end=\",\")"
   ]
  },
  {
   "cell_type": "markdown",
   "metadata": {},
   "source": [
    "### Saludar otros lenguajes"
   ]
  },
  {
   "cell_type": "code",
   "execution_count": 7,
   "metadata": {},
   "outputs": [],
   "source": [
    "def saludar(lang):# recibe el lenguaje\n",
    "    def saludar_es(rfacto):\n",
    "        print(f\"Hola {factor}\")\n",
    "    def saludar_en():\n",
    "        print(f\"Hi\")\n",
    "    def saludar_fr():\n",
    "        print(f\"Salut\")\n",
    "    def saludar_it():\n",
    "        print(f\"Ciao\")\n",
    "    def saludar_ep():\n",
    "        print(f\"Saluton\")\n",
    "    def saludar_jp():\n",
    "        print(f\"konnuchiwa\")\n",
    "    def saludar_al():\n",
    "        print(f\"hallo\")\n",
    "    lang_func = {\n",
    "        \"es\":saludar_es,\n",
    "        \"en\":saludar_en,\n",
    "        \"fr\":saludar_fr,\n",
    "        \"it\":saludar_it,\n",
    "        \"ep\":saludar_ep,\n",
    "        \"jp\":saludar_jp,\n",
    "        \"al\":saludar_al\n",
    "    }\n",
    "    return lang_func[lang]\n",
    "    "
   ]
  },
  {
   "cell_type": "code",
   "execution_count": 12,
   "metadata": {},
   "outputs": [],
   "source": [
    "saludar_japones = saludar(\"jp\")\n",
    "saludar_aleman = saludar(\"al\")\n",
    "saludar_espaniol = saludar(\"es\")\n",
    "saludar_esperanto = saludar(\"ep\")"
   ]
  },
  {
   "cell_type": "code",
   "execution_count": 16,
   "metadata": {},
   "outputs": [
    {
     "name": "stdout",
     "output_type": "stream",
     "text": [
      "konnuchiwa\n",
      "hallo\n",
      "Hola Alfonso\n",
      "Saluton\n"
     ]
    }
   ],
   "source": [
    "saludar_japones()\n",
    "saludar_aleman()\n",
    "saludar_espaniol(\"Alfonso\")\n",
    "saludar_esperanto()"
   ]
  },
  {
   "cell_type": "code",
   "execution_count": null,
   "metadata": {},
   "outputs": [],
   "source": []
  }
 ],
 "metadata": {
  "kernelspec": {
   "display_name": "Python 3.10.4 64-bit",
   "language": "python",
   "name": "python3"
  },
  "language_info": {
   "codemirror_mode": {
    "name": "ipython",
    "version": 3
   },
   "file_extension": ".py",
   "mimetype": "text/x-python",
   "name": "python",
   "nbconvert_exporter": "python",
   "pygments_lexer": "ipython3",
   "version": "3.10.4"
  },
  "orig_nbformat": 4,
  "vscode": {
   "interpreter": {
    "hash": "9524c4952dd211fec7df7c73b3afac2dbc89a267f70352ce6257a0999e7cce99"
   }
  }
 },
 "nbformat": 4,
 "nbformat_minor": 2
}

{
 "cells": [
  {
   "cell_type": "markdown",
   "metadata": {},
   "source": [
    "# Decoradores\n",
    "Funciones que a su vez añaden funcionalides a otras funciones,__por eso se les denominoa decoradores porque decoran otras funciones__. \n",
    "Estructura:\n",
    "* 3 funciones (A,B y C) donde A recibe como párametro a B para devolver C.\n",
    "* Unn decorador devuelve una función.\n",
    "``` python\n",
    "                                def funcion_decoradora(funcion):\n",
    "                                    def funcion_interna():\n",
    "                                        # instrucciones\n",
    "                                        pass\n",
    "                                        return funcion_interna\n",
    "``` "
   ]
  },
  {
   "cell_type": "markdown",
   "metadata": {},
   "source": [
    "### Ejemplo 1"
   ]
  },
  {
   "cell_type": "code",
   "execution_count": 11,
   "metadata": {},
   "outputs": [
    {
     "name": "stdout",
     "output_type": "stream",
     "text": [
      "Voy a realizar un cálculo:\n",
      "11\n",
      "Hemos terminado el cálculo\n",
      "-------------\n",
      "Voy a realizar un cálculo:\n",
      "5\n",
      "Hemos terminado el cálculo\n"
     ]
    }
   ],
   "source": [
    "# funcion decoradora\n",
    "def funcion_a(funcion_b):\n",
    "    def funcion_c():\n",
    "        # acciones adicionales que decoran\n",
    "        print(\"Voy a realizar un cálculo:\")\n",
    "        funcion_b()\n",
    "        # acciones adicionales que decoran\n",
    "        print(\"Hemos terminado el cálculo\")\n",
    "    return funcion_c\n",
    "\n",
    "@funcion_a\n",
    "def suma():\n",
    "    print(6+5) \n",
    "\n",
    "@funcion_a\n",
    "def resta():\n",
    "    print(9-4)\n",
    "\n",
    "suma()\n",
    "print(\"-------------\")\n",
    "resta()"
   ]
  },
  {
   "cell_type": "markdown",
   "metadata": {},
   "source": [
    "### Ejemplo 2"
   ]
  },
  {
   "cell_type": "code",
   "execution_count": 22,
   "metadata": {},
   "outputs": [
    {
     "name": "stdout",
     "output_type": "stream",
     "text": [
      "Voy a realizar un cálculo:\n",
      "15\n",
      "termine de  realizar un cálculo:\n",
      "Voy a realizar un cálculo:\n",
      "2\n",
      "termine de  realizar un cálculo:\n",
      "Voy a realizar un cálculo:\n",
      "8\n",
      "termine de  realizar un cálculo:\n"
     ]
    }
   ],
   "source": [
    "def funcion_a(funcion_b):\n",
    "    def funcion_c(*args,**kwargs):\n",
    "        # Acciones adiconales que decoran\n",
    "        print(\"Voy a realizar un cálculo:\")\n",
    "        funcion_b(*args,**kwargs)\n",
    "        # Acciones adiconales que decoran\n",
    "        print(\"termine de  realizar un cálculo:\")\n",
    "    return funcion_c\n",
    "\n",
    "@funcion_a\n",
    "def suma(a,b,c):\n",
    "    print(a+b+c)\n",
    "\n",
    "@funcion_a\n",
    "def resta(a,b,c):\n",
    "    print(a-b-c)\n",
    "\n",
    "@funcion_a\n",
    "def potencia(base,potencia):\n",
    "    print(base**potencia)\n",
    "    \n",
    "suma(4,5,6)\n",
    "resta(10,5,3)\n",
    "potencia(potencia=3,base=2)"
   ]
  },
  {
   "cell_type": "markdown",
   "metadata": {},
   "source": [
    "### Ejemplo 3"
   ]
  },
  {
   "cell_type": "code",
   "execution_count": 31,
   "metadata": {},
   "outputs": [
    {
     "data": {
      "text/plain": [
       "5"
      ]
     },
     "execution_count": 31,
     "metadata": {},
     "output_type": "execute_result"
    }
   ],
   "source": [
    "def decorador(nombre): # retorna lo que retorno funicion_interna -> funcion\n",
    "    def funcion_interna(funcion): # retorna lo que retrono funcion_interna_interna -> funcion\n",
    "        def funcion_interna_interna(*args,**kwargs):# retorna funcion \n",
    "            print(\"nombre:\",nombre)\n",
    "            a = args[0]**2\n",
    "            b = args[1]**2\n",
    "            print(f\"la suma de {a} + {b}\")\n",
    "            return funcion(a,b,**kwargs)\n",
    "        return funcion_interna_interna\n",
    "    return funcion_interna\n",
    "\n",
    "@decorador(\"Alfonso\")\n",
    "def suma(a,b):\n",
    "    return a + b\n",
    "\n",
    "suma(2,3)\n",
    "        "
   ]
  }
 ],
 "metadata": {
  "kernelspec": {
   "display_name": "Python 3.10.4 64-bit",
   "language": "python",
   "name": "python3"
  },
  "language_info": {
   "codemirror_mode": {
    "name": "ipython",
    "version": 3
   },
   "file_extension": ".py",
   "mimetype": "text/x-python",
   "name": "python",
   "nbconvert_exporter": "python",
   "pygments_lexer": "ipython3",
   "version": "3.10.4"
  },
  "orig_nbformat": 4,
  "vscode": {
   "interpreter": {
    "hash": "9524c4952dd211fec7df7c73b3afac2dbc89a267f70352ce6257a0999e7cce99"
   }
  }
 },
 "nbformat": 4,
 "nbformat_minor": 2
}

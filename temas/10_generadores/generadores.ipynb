{
 "cells": [
  {
   "cell_type": "markdown",
   "metadata": {},
   "source": [
    "# Generadores\n",
    "Un generador es una función que produce una secuencia de resultados en lugar de un único valor. Es decir, cada vez que llamemos a la función nos darán un nuevo resultado. Para construir generadores sólo tenemos que usar la orden __yield__.  \n",
    "Esta orden devolverá un valor igual que hace __return__ pero, además, pasará la ejecución de la función hasta la próxima vez que le pidamos un valor"
   ]
  },
  {
   "cell_type": "code",
   "execution_count": 5,
   "metadata": {},
   "outputs": [
    {
     "data": {
      "text/plain": [
       "[2, 4, 6, 8, 10]"
      ]
     },
     "execution_count": 5,
     "metadata": {},
     "output_type": "execute_result"
    }
   ],
   "source": [
    "lista = [numero for numero in range(1,11) if numero % 2 == 0]\n",
    "lista"
   ]
  },
  {
   "cell_type": "markdown",
   "metadata": {},
   "source": [
    "__range__ es una especie de función generadora. Por regla las funciones devuelven un valor con un __retunr__, pero la peculiaridad de los generadores es que van cediendo valores sobre la marcha, en tiempo de ejecución.  \n",
    "La función generadora __range(0,11)__, empieza cediendo el 0, luego en la siguiente iteración cede el 1, seprocesa el __for__, en la siguiente ce de el 2, etc."
   ]
  },
  {
   "cell_type": "code",
   "execution_count": 3,
   "metadata": {},
   "outputs": [
    {
     "name": "stdout",
     "output_type": "stream",
     "text": [
      "[2, 4, 6, 8, 10]\n",
      "[2, 4, 6, 8, 10]\n"
     ]
    }
   ],
   "source": [
    "# método tradicional\n",
    "def pares_l(n):\n",
    "    lista = []\n",
    "    for numero in range(1,n+1):\n",
    "        if numero % 2 == 0:\n",
    "            lista.append(numero)\n",
    "    return lista\n",
    "\n",
    "# usando generador\n",
    "def pares(n):\n",
    "    for numero in range(1,n+1):\n",
    "        if numero % 2 == 0:\n",
    "            yield numero\n",
    "\n",
    "print(list(pares(10)))\n",
    "print(pares_l(10))"
   ]
  },
  {
   "cell_type": "markdown",
   "metadata": {},
   "source": [
    "### Función generadora de primos en un rango"
   ]
  },
  {
   "cell_type": "code",
   "execution_count": 9,
   "metadata": {},
   "outputs": [
    {
     "name": "stdout",
     "output_type": "stream",
     "text": [
      "(1009, 1013, 1019, 1021, 1031, 1033, 1039, 1049, 1051, 1061, 1063, 1069, 1087, 1091, 1093, 1097, 1103, 1109, 1117, 1123, 1129, 1151, 1153, 1163, 1171, 1181, 1187, 1193, 1201, 1213, 1217, 1223, 1229, 1231, 1237, 1249, 1259, 1277, 1279, 1283, 1289, 1291, 1297, 1301, 1303, 1307, 1319, 1321, 1327, 1361, 1367, 1373, 1381, 1399, 1409, 1423, 1427, 1429, 1433, 1439, 1447, 1451, 1453, 1459, 1471, 1481, 1483, 1487, 1489, 1493, 1499, 1511, 1523, 1531, 1543, 1549, 1553, 1559, 1567, 1571, 1579, 1583, 1597, 1601, 1607, 1609, 1613, 1619, 1621, 1627, 1637, 1657, 1663, 1667, 1669, 1693, 1697, 1699, 1709, 1721, 1723, 1733, 1741, 1747, 1753, 1759, 1777, 1783, 1787, 1789, 1801, 1811, 1823, 1831, 1847, 1861, 1867, 1871, 1873, 1877, 1879, 1889, 1901, 1907, 1913, 1931, 1933, 1949, 1951, 1973, 1979, 1987, 1993, 1997, 1999)\n"
     ]
    }
   ],
   "source": [
    "def primo(n):\n",
    "    cont = 0\n",
    "    for i in range(2,n+1):\n",
    "        if n%i == 0:\n",
    "            cont+=1\n",
    "    if cont==1:\n",
    "        return True\n",
    "    return False\n",
    "\n",
    "def primosEnRango(inicio,final):\n",
    "    for i in range(inicio,final+1):\n",
    "        if primo(i):\n",
    "            yield i\n",
    "\n",
    "lista_numeros_primos = tuple(primosEnRango(1000,2000))\n",
    "print(lista_numeros_primos)    "
   ]
  },
  {
   "cell_type": "markdown",
   "metadata": {},
   "source": [
    "### Función generadora de primos infinita"
   ]
  },
  {
   "cell_type": "code",
   "execution_count": 29,
   "metadata": {},
   "outputs": [],
   "source": [
    "def primosInfinitos():\n",
    "    numero = 2\n",
    "    while True:\n",
    "        cont = 0\n",
    "        for i in range(2,numero+1):\n",
    "            if numero%i == 0:\n",
    "                cont+=1\n",
    "        if cont==1:\n",
    "            # print(f\"{numero} es primo\")\n",
    "            yield numero\n",
    "        numero+=1\n",
    "\n",
    "lista_primos_infinitos = primosInfinitos()\n"
   ]
  },
  {
   "cell_type": "code",
   "execution_count": 30,
   "metadata": {},
   "outputs": [
    {
     "name": "stdout",
     "output_type": "stream",
     "text": [
      "2\n",
      "3\n",
      "5\n",
      "7\n",
      "11\n"
     ]
    }
   ],
   "source": [
    "n = int(input(\"Ingresa un número\"))\n",
    "for i in range(n):\n",
    "    print(next(lista_primos_infinitos))"
   ]
  },
  {
   "cell_type": "code",
   "execution_count": null,
   "metadata": {},
   "outputs": [],
   "source": []
  }
 ],
 "metadata": {
  "kernelspec": {
   "display_name": "Python 3.10.4 64-bit",
   "language": "python",
   "name": "python3"
  },
  "language_info": {
   "codemirror_mode": {
    "name": "ipython",
    "version": 3
   },
   "file_extension": ".py",
   "mimetype": "text/x-python",
   "name": "python",
   "nbconvert_exporter": "python",
   "pygments_lexer": "ipython3",
   "version": "3.10.4"
  },
  "orig_nbformat": 4,
  "vscode": {
   "interpreter": {
    "hash": "9524c4952dd211fec7df7c73b3afac2dbc89a267f70352ce6257a0999e7cce99"
   }
  }
 },
 "nbformat": 4,
 "nbformat_minor": 2
}

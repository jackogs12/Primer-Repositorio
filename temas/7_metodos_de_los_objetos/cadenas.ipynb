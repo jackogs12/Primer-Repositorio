{
 "cells": [
  {
   "cell_type": "markdown",
   "metadata": {},
   "source": [
    "# Cadenas"
   ]
  },
  {
   "cell_type": "markdown",
   "metadata": {},
   "source": [
    "### cadena._count_(sub,start,end)\n",
    "\n",
    "Devuelve el número de veces que se encuentra _sub_ en la cadena. Los parámetros opcionales _start_ y _end_ definen una subcadena en la que buscar"
   ]
  },
  {
   "cell_type": "code",
   "execution_count": 16,
   "metadata": {},
   "outputs": [
    {
     "data": {
      "text/plain": [
       "104"
      ]
     },
     "execution_count": 16,
     "metadata": {},
     "output_type": "execute_result"
    }
   ],
   "source": [
    "txt ='''Qui enim mollit excepteur dolore. Et reprehenderit do incididunt ex anim Lorem aute eiusmod. Voluptate aliquip nostrud ea sunt veniam proident ad consectetur ea commodo do. Aliqua irure officia in commodo quis aute ea.\n",
    "\n",
    "Elit commodo enim id cupidatat nostrud duis eiusmod eu in mollit ad. Sit aute minim velit aliqua do aliquip officia culpa cillum ullamco aute aliquip exercitation ex. Cillum nostrud elit adipisicing excepteur nisi. Voluptate amet irure qui pariatur sint dolore. Do reprehenderit sit ea enim consectetur cillum fugiat enim ea commodo adipisicing dolore ut. Ut sit nostrud minim quis pariatur consectetur ut. Veniam aliquip eu ut qui.\n",
    "\n",
    "Proident officia minim laboris aute ut incididunt pariatur labore. Sit exercitation exercitation dolore eiusmod labore laborum exercitation commodo fugiat. Sit cillum culpa aliquip eu ut et nostrud laboris fugiat consequat in non cillum culpa. Excepteur id deserunt cupidatat exercitation veniam nulla laboris sunt ipsum velit ea labore.\n",
    "\n",
    "Enim velit deserunt ut laboris veniam qui aliqua occaecat id. Fugiat nulla reprehenderit cillum pariatur laboris magna proident eiusmod aliqua. Deserunt est pariatur consectetur ea proident ipsum sint adipisicing nulla voluptate et velit.\n",
    "\n",
    "Eu consequat dolor ullamco laborum ut sint nostrud. Mollit anim tempor deserunt anim. Reprehenderit aliqua ad ipsum labore. Sunt excepteur exercitation Lorem aliquip fugiat id et deserunt irure elit et reprehenderit. Nisi eiusmod ut tempor aliqua adipisicing fugiat officia veniam.a'''\n",
    "txt.count('a')"
   ]
  },
  {
   "cell_type": "code",
   "execution_count": 18,
   "metadata": {},
   "outputs": [
    {
     "data": {
      "text/plain": [
       "1"
      ]
     },
     "execution_count": 18,
     "metadata": {},
     "output_type": "execute_result"
    }
   ],
   "source": [
    "# buscar en la cadena txt despues de la posición 100\n",
    "# len(txt)\n",
    "txt.count(\"a\",1514)"
   ]
  },
  {
   "cell_type": "code",
   "execution_count": 20,
   "metadata": {},
   "outputs": [
    {
     "data": {
      "text/plain": [
       "7"
      ]
     },
     "execution_count": 20,
     "metadata": {},
     "output_type": "execute_result"
    }
   ],
   "source": [
    "# buscar en la cadena txt despues de la posición 100 hasta la posición 200\n",
    "txt.count(\"a\",100,200)"
   ]
  },
  {
   "cell_type": "markdown",
   "metadata": {},
   "source": [
    "### cadena.__find__(_sub_,_start_,_end_)\n",
    "Devuelve la posición en la que se encontró por primera vez en la cadena o -1 si no se encontro"
   ]
  },
  {
   "cell_type": "code",
   "execution_count": 50,
   "metadata": {},
   "outputs": [
    {
     "name": "stdout",
     "output_type": "stream",
     "text": [
      "5\n"
     ]
    }
   ],
   "source": [
    "txt = \"Python\"\n",
    "letra = \"n\"\n",
    "inicio = 0\n",
    "while True:\n",
    "    indice_letra = txt.find(letra,inicio)\n",
    "    if indice_letra > -1:\n",
    "        inicio = indice_letra + 1 \n",
    "        print(indice_letra)\n",
    "    else:\n",
    "        break"
   ]
  },
  {
   "cell_type": "markdown",
   "metadata": {},
   "source": [
    "### cadena.__join__(_sequence_)\n",
    "Devuelve una cadena resultante de concatenar las cadenas de la _secuencia_ separadas por la cadena sobre la que se llama el método"
   ]
  },
  {
   "cell_type": "code",
   "execution_count": 60,
   "metadata": {},
   "outputs": [
    {
     "data": {
      "text/plain": [
       "'MholaUholaNholaDholaO'"
      ]
     },
     "execution_count": 60,
     "metadata": {},
     "output_type": "execute_result"
    }
   ],
   "source": [
    "txt = \"hola\"\n",
    "txt.join(\"MUNDO\")\n",
    "\n"
   ]
  },
  {
   "cell_type": "code",
   "execution_count": 72,
   "metadata": {},
   "outputs": [
    {
     "data": {
      "text/plain": [
       "'h _ _ a'"
      ]
     },
     "execution_count": 72,
     "metadata": {},
     "output_type": "execute_result"
    }
   ],
   "source": [
    "lista = ['_','_','_','_']\n",
    "adivina = \"hola\"\n",
    "\n",
    "letra = \"a\"\n",
    "p = adivina.find(letra)\n",
    "lista[p] = letra\n",
    "\n",
    "letra = \"h\"\n",
    "p = adivina.find(letra)\n",
    "lista[p] = letra\n",
    "\n",
    "\n",
    "# pasar de list a str\n",
    "palabra = \" \".join(lista)\n",
    "palabra"
   ]
  },
  {
   "cell_type": "markdown",
   "metadata": {},
   "source": [
    "### cadena.__partiton__(_sep_)\n",
    "Busca el separador _sep_ y devuelve una tupla con la subcadena hasta dicho separador, el separador en si, y la subcadena del separador hasta el final de la cadena. Si no se encuentra el separador, la tupla contrendra la cadena en si y dos cadenas vacias."
   ]
  },
  {
   "cell_type": "code",
   "execution_count": 86,
   "metadata": {},
   "outputs": [
    {
     "name": "stdout",
     "output_type": "stream",
     "text": [
      "Hola\n",
      "mundo\n"
     ]
    },
    {
     "data": {
      "text/plain": [
       "('Hola', '\\n', 'mundo')"
      ]
     },
     "execution_count": 86,
     "metadata": {},
     "output_type": "execute_result"
    }
   ],
   "source": [
    "txt = '''Hola\n",
    "mundo'''\n",
    "print(txt)\n",
    "txt.partition(\"\\n\")\n"
   ]
  },
  {
   "cell_type": "markdown",
   "metadata": {},
   "source": [
    "### cadena.__replace__(_old_,_new_,_cont_)\n",
    "Devuelve una cadena en la que se han reemplazado todas las ocurrencias de la cadena _old_ por la cadena _new_. Si se especifica el parametro _count_, este indica el número máximo de ocurrencias a reemplazar."
   ]
  },
  {
   "cell_type": "code",
   "execution_count": 91,
   "metadata": {},
   "outputs": [
    {
     "name": "stdout",
     "output_type": "stream",
     "text": [
      "hola mundo\n",
      "h0la mund0\n"
     ]
    }
   ],
   "source": [
    "txt = \"hola mundo\"\n",
    "txt2 = txt.replace('o','0')\n",
    "print(txt)\n",
    "print(txt2)"
   ]
  },
  {
   "cell_type": "markdown",
   "metadata": {},
   "source": [
    "### cadena.__split__(_sep_,_maxsplit_)\n",
    "Devuelve una lista conteniendo las subcadenas en las que se divide nuestra cadena al dividirlas por el delimitador _sep_, se usan espacios. Si se especifica _maxsplit_, este indica el número máximo de particiones a realizar."
   ]
  },
  {
   "cell_type": "code",
   "execution_count": 108,
   "metadata": {},
   "outputs": [
    {
     "name": "stdout",
     "output_type": "stream",
     "text": [
      "hola mundo como,estas\n",
      "['hola mundo como', 'estas']\n"
     ]
    },
    {
     "data": {
      "text/plain": [
       "['hola', 'mundo', 'como,estas']"
      ]
     },
     "execution_count": 108,
     "metadata": {},
     "output_type": "execute_result"
    }
   ],
   "source": [
    "txt = \"hola mundo como,estas\"\n",
    "sep_coma = txt.split(\",\")\n",
    "print(txt)\n",
    "print(sep_coma)\n",
    "txt.split()"
   ]
  },
  {
   "cell_type": "code",
   "execution_count": null,
   "metadata": {},
   "outputs": [],
   "source": []
  }
 ],
 "metadata": {
  "kernelspec": {
   "display_name": "Python 3.10.4 64-bit",
   "language": "python",
   "name": "python3"
  },
  "language_info": {
   "codemirror_mode": {
    "name": "ipython",
    "version": 3
   },
   "file_extension": ".py",
   "mimetype": "text/x-python",
   "name": "python",
   "nbconvert_exporter": "python",
   "pygments_lexer": "ipython3",
   "version": "3.10.4"
  },
  "orig_nbformat": 4,
  "vscode": {
   "interpreter": {
    "hash": "9524c4952dd211fec7df7c73b3afac2dbc89a267f70352ce6257a0999e7cce99"
   }
  }
 },
 "nbformat": 4,
 "nbformat_minor": 2
}

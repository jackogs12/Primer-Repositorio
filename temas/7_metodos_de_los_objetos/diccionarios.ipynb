{
 "cells": [
  {
   "cell_type": "markdown",
   "metadata": {},
   "source": [
    "\n",
    "# Diccionarios"
   ]
  },
  {
   "cell_type": "markdown",
   "metadata": {},
   "source": [
    "### diccionario.__get__(_k_,_str_)\n",
    "Busca el valor de la clave _k_ en el diccionario. Es equivalente a utilizar dicionario[ _k_ ] pero al utilizar este método podemos indicar en _str_ un valor a devolver por defecto sino se encuentra la clave, mientras que con la sintaxis diccionario[ _k_ ], de no existir la clave se lanzaría una excepción."
   ]
  },
  {
   "cell_type": "code",
   "execution_count": 1,
   "metadata": {},
   "outputs": [
    {
     "data": {
      "text/plain": [
       "'uno'"
      ]
     },
     "execution_count": 1,
     "metadata": {},
     "output_type": "execute_result"
    }
   ],
   "source": [
    "diccionario = {\n",
    "    1:'uno',\n",
    "    2:'dos',\n",
    "    3:'tres',\n",
    "    4:'cuatro',\n",
    "    5:'cinco',\n",
    "    6:'seis'\n",
    "}\n",
    "diccionario.get(1)"
   ]
  },
  {
   "cell_type": "code",
   "execution_count": 5,
   "metadata": {},
   "outputs": [
    {
     "name": "stdout",
     "output_type": "stream",
     "text": [
      "-100\n"
     ]
    }
   ],
   "source": [
    "print(diccionario.get(7,\"No existe la clave\"))"
   ]
  },
  {
   "cell_type": "markdown",
   "metadata": {},
   "source": [
    "### dicionario.__has_key__(_k_) en Pyhon 3\n",
    "__has_key()__ no existe en Python 3, solo en python 2,y es equivalente a la sintaxis _k_ __in__ _diccionario_ que nos devuelve un valor boleano si la _k_ se encuentra en al diccionario"
   ]
  },
  {
   "cell_type": "code",
   "execution_count": 7,
   "metadata": {},
   "outputs": [
    {
     "name": "stdout",
     "output_type": "stream",
     "text": [
      "True\n",
      "True\n",
      "False\n",
      "False\n"
     ]
    }
   ],
   "source": [
    "diccionario = {\n",
    "    1:'uno',\n",
    "    2:'dos',\n",
    "    3:'tres',\n",
    "    4:'cuatro',\n",
    "    5:'cinco',\n",
    "    6:'seis'\n",
    "}\n",
    "print(6 in diccionario)\n",
    "print(1 in diccionario)\n",
    "print(0 in diccionario)\n",
    "print(7 in diccionario)"
   ]
  },
  {
   "cell_type": "markdown",
   "metadata": {},
   "source": [
    "### diccionario.__itmes__()\n",
    "Devuelve una lista de tuplas con _claver,valor_"
   ]
  },
  {
   "cell_type": "code",
   "execution_count": 10,
   "metadata": {},
   "outputs": [
    {
     "name": "stdout",
     "output_type": "stream",
     "text": [
      "1 <====> uno\n",
      "2 <====> dos\n",
      "3 <====> tres\n",
      "4 <====> cuatro\n",
      "5 <====> cinco\n",
      "6 <====> seis\n"
     ]
    }
   ],
   "source": [
    "diccionario = {\n",
    "    1:'uno',\n",
    "    2:'dos',\n",
    "    3:'tres',\n",
    "    4:'cuatro',\n",
    "    5:'cinco',\n",
    "    6:'seis'\n",
    "}\n",
    "diccionario.items()\n",
    "for k,v in diccionario.items():\n",
    "    print(f\"{k} <====> {v}\")"
   ]
  },
  {
   "cell_type": "markdown",
   "metadata": {},
   "source": [
    "### diccionario.__pop__(_k_,_str_)\n",
    "Borra la clave del diccionario y devuelve su valor, sino se encuentra dicha clave se devuelve _str_\n",
    "si se especificó el parámetro o bien se lanza una excepción."
   ]
  },
  {
   "cell_type": "code",
   "execution_count": 11,
   "metadata": {},
   "outputs": [
    {
     "data": {
      "text/plain": [
       "'seis'"
      ]
     },
     "execution_count": 11,
     "metadata": {},
     "output_type": "execute_result"
    }
   ],
   "source": [
    "diccionario = {\n",
    "    1:'uno',\n",
    "    2:'dos',\n",
    "    3:'tres',\n",
    "    4:'cuatro',\n",
    "    5:'cinco',\n",
    "    6:'seis'\n",
    "}\n",
    "diccionario.pop(6)"
   ]
  },
  {
   "cell_type": "code",
   "execution_count": 12,
   "metadata": {},
   "outputs": [
    {
     "data": {
      "text/plain": [
       "{1: 'uno', 2: 'dos', 3: 'tres', 4: 'cuatro', 5: 'cinco'}"
      ]
     },
     "execution_count": 12,
     "metadata": {},
     "output_type": "execute_result"
    }
   ],
   "source": [
    "diccionario"
   ]
  },
  {
   "cell_type": "code",
   "execution_count": 14,
   "metadata": {},
   "outputs": [
    {
     "data": {
      "text/plain": [
       "'No existe la llave'"
      ]
     },
     "execution_count": 14,
     "metadata": {},
     "output_type": "execute_result"
    }
   ],
   "source": [
    "diccionario.pop(6,\"No existe la llave\")"
   ]
  },
  {
   "cell_type": "code",
   "execution_count": null,
   "metadata": {},
   "outputs": [],
   "source": []
  }
 ],
 "metadata": {
  "kernelspec": {
   "display_name": "Python 3.10.4 64-bit",
   "language": "python",
   "name": "python3"
  },
  "language_info": {
   "codemirror_mode": {
    "name": "ipython",
    "version": 3
   },
   "file_extension": ".py",
   "mimetype": "text/x-python",
   "name": "python",
   "nbconvert_exporter": "python",
   "pygments_lexer": "ipython3",
   "version": "3.10.4"
  },
  "orig_nbformat": 4,
  "vscode": {
   "interpreter": {
    "hash": "9524c4952dd211fec7df7c73b3afac2dbc89a267f70352ce6257a0999e7cce99"
   }
  }
 },
 "nbformat": 4,
 "nbformat_minor": 2
}

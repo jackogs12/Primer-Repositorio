{
 "cells": [
  {
   "cell_type": "markdown",
   "metadata": {},
   "source": [
    "# Ejercicios Funciones"
   ]
  },
  {
   "cell_type": "markdown",
   "metadata": {},
   "source": [
    "## Ejercicio 1\n",
    "Escribir una función que muestre por pantalla el saludo ¡Hola amiga! cada vez que se la invoque."
   ]
  },
  {
   "cell_type": "code",
   "execution_count": 1,
   "metadata": {},
   "outputs": [
    {
     "name": "stdout",
     "output_type": "stream",
     "text": [
      "Hola amiga\n"
     ]
    }
   ],
   "source": [
    "# Solución\n",
    "def saludo():\n",
    "    print(\"Hola amiga\")\n",
    "    \n",
    "saludo()"
   ]
  },
  {
   "cell_type": "markdown",
   "metadata": {},
   "source": [
    "## Ejercicio 2\n",
    "Escribir una función a la que se le pase una cadena <span style=\"color:#66D9EF\">nombre</span> y muestre por pantalla el saludo ¡hola <span style=\"color:#66D9EF\">nombre</span>!."
   ]
  },
  {
   "cell_type": "code",
   "execution_count": 2,
   "metadata": {},
   "outputs": [
    {
     "name": "stdout",
     "output_type": "stream",
     "text": [
      "Hola Alfonso\n"
     ]
    }
   ],
   "source": [
    "# Solución\n",
    "def saludo_nombre(nombre):\n",
    "    print(f\"Hola {nombre}\")\n",
    "nombre = input(\"Ingresa tu nombre:\")\n",
    "saludo_nombre(nombre)"
   ]
  },
  {
   "cell_type": "markdown",
   "metadata": {},
   "source": [
    "## Ejercicio 3\n",
    "Escribir una función que reciba un número entero positivo y devuelva su factorial."
   ]
  },
  {
   "cell_type": "code",
   "execution_count": 4,
   "metadata": {},
   "outputs": [
    {
     "data": {
      "text/plain": [
       "120"
      ]
     },
     "execution_count": 4,
     "metadata": {},
     "output_type": "execute_result"
    }
   ],
   "source": [
    "# Solución\n",
    "def factorial(n):\n",
    "    if n == 0:\n",
    "        return 1\n",
    "    return n * factorial(n-1)\n",
    "factorial(5)"
   ]
  },
  {
   "cell_type": "markdown",
   "metadata": {},
   "source": [
    "## Ejercicio 4\n",
    "Escribir una función que calcule el total de una factura tras aplicarle el IVA. La función debe recibir la cantidad sin IVA y el porcentaje de IVA a aplicar, y devolver el total de la factura. Si se invoca la función sin pasarle el porcentaje de IVA, deberá aplicar un 21%."
   ]
  },
  {
   "cell_type": "code",
   "execution_count": 5,
   "metadata": {},
   "outputs": [
    {
     "data": {
      "text/plain": [
       "116.0"
      ]
     },
     "execution_count": 5,
     "metadata": {},
     "output_type": "execute_result"
    }
   ],
   "source": [
    "# Solución\n",
    "def aplica_iva(cantidad,iva):\n",
    "    return cantidad + cantidad*iva/100\n",
    "aplica_iva(100,16)"
   ]
  },
  {
   "cell_type": "markdown",
   "metadata": {},
   "source": [
    "## Ejercicio 5\n",
    "Escribir una función que calcule el área de un círculo y otra que calcule el volumen de un cilindro usando la primera función."
   ]
  },
  {
   "cell_type": "code",
   "execution_count": 9,
   "metadata": {},
   "outputs": [
    {
     "name": "stdout",
     "output_type": "stream",
     "text": [
      "314.15999999999997\n",
      "3141.5999999999995\n"
     ]
    }
   ],
   "source": [
    "# Solución\n",
    "def area_circulo(radio):\n",
    "    pi = 3.1416\n",
    "    return pi*radio**2\n",
    "def volumen_circulo(radio,altura):\n",
    "    return area_circulo(radio)*altura\n",
    "\n",
    "print(area_circulo(10))\n",
    "print(volumen_circulo(10,10))"
   ]
  },
  {
   "cell_type": "markdown",
   "metadata": {},
   "source": [
    "## Ejercicio 6\n",
    "Escribir una función que reciba una muestra de números y devuelva su media. ( usar argumentos de longitud variable)"
   ]
  },
  {
   "cell_type": "code",
   "execution_count": 11,
   "metadata": {},
   "outputs": [
    {
     "data": {
      "text/plain": [
       "5.714285714285714"
      ]
     },
     "execution_count": 11,
     "metadata": {},
     "output_type": "execute_result"
    }
   ],
   "source": [
    "# Solución\n",
    "def media(*numeros):\n",
    "    return sum(numeros)/len(numeros)\n",
    "media(1,2,5,8,7,9,8)"
   ]
  },
  {
   "cell_type": "markdown",
   "metadata": {},
   "source": [
    "## Ejercicio 7\n",
    "Escribir una función que reciba una muestra de números y devuelva otra lista con sus cuadrados. (usar argumentos de longitud variable)"
   ]
  },
  {
   "cell_type": "code",
   "execution_count": 12,
   "metadata": {},
   "outputs": [
    {
     "data": {
      "text/plain": [
       "[1, 4, 9, 16]"
      ]
     },
     "execution_count": 12,
     "metadata": {},
     "output_type": "execute_result"
    }
   ],
   "source": [
    "# Solución\n",
    "def cuadrados(*numeros):\n",
    "    cuadrados = []\n",
    "    for n in numeros:\n",
    "        cuadrados.append(n**2)\n",
    "    return cuadrados\n",
    "cuadrados(1,2,3,4)"
   ]
  },
  {
   "cell_type": "markdown",
   "metadata": {},
   "source": [
    "## Ejercicio 8\n",
    "Escribir una función que calcule el máximo común divisor de dos números y otra que calcule el mínimo común múltiplo."
   ]
  },
  {
   "cell_type": "code",
   "execution_count": 15,
   "metadata": {},
   "outputs": [
    {
     "name": "stdout",
     "output_type": "stream",
     "text": [
      "12\n",
      "72\n"
     ]
    }
   ],
   "source": [
    "def mcd(n1,n2):\n",
    "    if n1>n2:\n",
    "        dividendo = n1\n",
    "        divisor = n2\n",
    "    else: \n",
    "        dividendo = n2\n",
    "        divisor = n1\n",
    "    while True:\n",
    "        resto = dividendo % divisor\n",
    "        if resto == 0:\n",
    "            mcd = divisor\n",
    "            break\n",
    "        else:\n",
    "            dividendo = divisor\n",
    "            divisor = resto\n",
    "    return mcd\n",
    "\n",
    "def mcm(n1, n2):\n",
    "\n",
    "    if n1 > n2:\n",
    "        mayor = n1\n",
    "    else:\n",
    "        mayor = n2\n",
    "    while (mayor % n1 != 0) or (mayor % n2 != 0):\n",
    "        mayor += 1\n",
    "    return mayor\n",
    "\n",
    "print(mcd(24,36))\n",
    "print(mcm(24,36))"
   ]
  },
  {
   "cell_type": "markdown",
   "metadata": {},
   "source": [
    "## Ejercicio 9\n",
    "Escribir una función que convierta un número decimal en binario y otra que convierta un número binario en decimal."
   ]
  },
  {
   "cell_type": "code",
   "execution_count": 19,
   "metadata": {},
   "outputs": [
    {
     "name": "stdout",
     "output_type": "stream",
     "text": [
      "22\n",
      "10110\n"
     ]
    }
   ],
   "source": [
    "# Solución\n",
    "def a_decimal(n):\n",
    "    n = list(n)\n",
    "    n.reverse()\n",
    "    decimal = 0\n",
    "    for i in range(len(n)):\n",
    "        decimal += int(n[i]) * 2 ** i\n",
    "    return decimal\n",
    "\n",
    "def a_binario(n):\n",
    "    binario = []\n",
    "    while n > 0:\n",
    "        binario.append(str(n % 2))\n",
    "        n //= 2\n",
    "    binario.reverse()\n",
    "    return ''.join(binario)\n",
    "print(a_decimal('10110'))\n",
    "print(a_binario(22))"
   ]
  },
  {
   "cell_type": "markdown",
   "metadata": {},
   "source": [
    "## Ejercicio 10\n",
    "Escribir un programa que reciba una cadena de caracteres y devuelva un diccionario con cada palabra que contiene y su frecuencia. Escribir otra función que reciba el diccionario generado con la función anterior y devuelva una tupla con la palabra más repetida y su frecuencia."
   ]
  },
  {
   "cell_type": "code",
   "execution_count": 20,
   "metadata": {},
   "outputs": [
    {
     "name": "stdout",
     "output_type": "stream",
     "text": [
      "{'Como': 1, 'quieres': 1, 'que': 4, 'te': 1, 'quiera': 3, 'si': 1, 'el': 1, 'quiero': 2, 'me': 3, 'no': 1, 'quiere': 1, 'como': 1}\n",
      "('que', 4)\n"
     ]
    }
   ],
   "source": [
    "# Solución\n",
    "def cuenta_palabras(text):\n",
    "    text = text.split()\n",
    "    palabras = {}\n",
    "    for i in text:\n",
    "        if i in palabras:\n",
    "            palabras[i] += 1\n",
    "        else:\n",
    "            palabras[i] = 1\n",
    "    return palabras\n",
    "\n",
    "def mas_repetico(palabras):\n",
    "    max_palabra = ''\n",
    "    max_frecuencia = 0\n",
    "    for word, freq in palabras.items():\n",
    "        if freq > max_frecuencia:\n",
    "            max_palabra = word\n",
    "            max_frecuencia = freq\n",
    "    return max_palabra, max_frecuencia\n",
    "\n",
    "text = 'Como quieres que te quiera si el que quiero que me quiera no me quiere como quiero que me quiera'\n",
    "print(cuenta_palabras(text))\n",
    "print(mas_repetico(cuenta_palabras(text)))"
   ]
  },
  {
   "cell_type": "code",
   "execution_count": null,
   "metadata": {},
   "outputs": [],
   "source": []
  }
 ],
 "metadata": {
  "kernelspec": {
   "display_name": "Python 3.10.4 64-bit",
   "language": "python",
   "name": "python3"
  },
  "language_info": {
   "codemirror_mode": {
    "name": "ipython",
    "version": 3
   },
   "file_extension": ".py",
   "mimetype": "text/x-python",
   "name": "python",
   "nbconvert_exporter": "python",
   "pygments_lexer": "ipython3",
   "version": "3.10.4"
  },
  "orig_nbformat": 4,
  "vscode": {
   "interpreter": {
    "hash": "9524c4952dd211fec7df7c73b3afac2dbc89a267f70352ce6257a0999e7cce99"
   }
  }
 },
 "nbformat": 4,
 "nbformat_minor": 2
}

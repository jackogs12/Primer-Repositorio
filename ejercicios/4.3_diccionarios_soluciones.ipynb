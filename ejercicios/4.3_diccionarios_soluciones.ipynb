{
 "cells": [
  {
   "cell_type": "markdown",
   "metadata": {},
   "source": [
    "# Ejercicios: Diccionarios"
   ]
  },
  {
   "cell_type": "markdown",
   "metadata": {},
   "source": [
    "### Ejercicio 1\n",
    "Escribir un programa que guarde en una variable el diccionario {'Euro':'€', 'Dollar':'$', 'Yen':'¥'}, pregunte al usuario por una divisa y muestre su símbolo o un mensaje de aviso si la divisa no está en el diccionario."
   ]
  },
  {
   "cell_type": "code",
   "execution_count": 4,
   "metadata": {},
   "outputs": [
    {
     "name": "stdout",
     "output_type": "stream",
     "text": [
      "€\n"
     ]
    }
   ],
   "source": [
    "# Solución\n",
    "dict_divisa = {'Euro':'€', 'Dollar':'$', 'Yen':'¥'}\n",
    "divisa = input(\"Ingresa una divisa:\")\n",
    "print(dict_divisa.get(divisa,\"La divisa no existe\"))"
   ]
  },
  {
   "cell_type": "markdown",
   "metadata": {},
   "source": [
    "### Ejercicio 2\n",
    "Escribir un programa que pregunte al usuario su nombre, edad, dirección y teléfono y lo guarde en un diccionario. Después debe mostrar por pantalla el mensaje \\<nombre> tiene \\<edad> años, vive en \\<dirección> y su número de teléfono es \\<teléfono>."
   ]
  },
  {
   "cell_type": "code",
   "execution_count": 6,
   "metadata": {},
   "outputs": [
    {
     "name": "stdout",
     "output_type": "stream",
     "text": [
      "Juan tiene 45 años, vive en Lomas Estrella y su número de teléfono es 55585987952\n"
     ]
    }
   ],
   "source": [
    "# Solución\n",
    "dict_agenda = {}\n",
    "nombre = input(\"Ingresa tu nombre\")\n",
    "edad = input(\"Ingresa tu edad\")\n",
    "direccion = input(\"Ingresa tu direccion\")\n",
    "telefono = input(\"Ingresa tu telefono\")\n",
    "dict_agenda[nombre] = (edad,direccion,telefono)\n",
    "print(f\"{nombre} tiene {dict_agenda[nombre][0]} años, vive en {dict_agenda[nombre][1]} y su número de teléfono es {dict_agenda[nombre][2]}\")"
   ]
  },
  {
   "cell_type": "markdown",
   "metadata": {},
   "source": [
    "### Ejercicio 3\n",
    "Escribir un programa que guarde en un diccionario los precios de las frutas de la tabla, pregunte al usuario por una fruta, un número de kilos y muestre por pantalla el precio de ese número de kilos de fruta. Si la fruta no está en el diccionario debe mostrar un mensaje informando de ello.\n",
    "<center>\n",
    "\n",
    "|Fruta|Precio|\n",
    "|:-:|:-:|\n",
    "|Plátano|20.0|\n",
    "|Manzana|30.0|\n",
    "|Pera|40.0|\n",
    "|Naranja|25.0|"
   ]
  },
  {
   "cell_type": "code",
   "execution_count": 10,
   "metadata": {},
   "outputs": [
    {
     "name": "stdout",
     "output_type": "stream",
     "text": [
      "El precio es de = 200.0$ por 10kg de Plátano\n"
     ]
    }
   ],
   "source": [
    "# Solución\n",
    "frutas ={\n",
    "    \"Plátano\":20.0,\n",
    "    \"Manzana\":30.0,\n",
    "    \"Pera\":40.0,\n",
    "    \"Naranja\":25.0,\n",
    "}\n",
    "fruta = input(\"ingresa una fruta:\")\n",
    "kilos = int(input(\"ingresa los kilos\"))\n",
    "if not fruta in frutas:\n",
    "    print(\"La fruta no existe\")\n",
    "else:\n",
    "    print(f\"El precio es de = {frutas[fruta]*kilos}$ por {kilos}kg de {fruta}\")"
   ]
  },
  {
   "cell_type": "markdown",
   "metadata": {},
   "source": [
    "### Ejercicio 4\n",
    "Escribir un programa que pregunte una fecha en formato dd/mm/aaaa y muestre por pantalla la misma fecha en formato dd de \\<mes> de aaaa donde \\<mes> es el nombre del mes."
   ]
  },
  {
   "cell_type": "code",
   "execution_count": 12,
   "metadata": {},
   "outputs": [
    {
     "name": "stdout",
     "output_type": "stream",
     "text": [
      "25 de junio de 2022\n"
     ]
    }
   ],
   "source": [
    "# Solución\n",
    "fecha = input(\"Ingresa la fecha en formato dd/mm/aaaa\")\n",
    "mes = {1:'enero',2:'febrero',3:'marzo',4:'abril',5:'mayo',6:'junio',7:'julio',8:'agosto',9:'septiembre',10:'octubre',11:'noviembre',12:'diciembre'}\n",
    "print(f\"{fecha[0:2]} de {mes[int(fecha[3:5])]} de {fecha[6:]}\")"
   ]
  },
  {
   "cell_type": "markdown",
   "metadata": {},
   "source": [
    "### Ejercicio 5\n",
    "Escribir un programa que almacene el diccionario con los créditos de las asignaturas de un curso {'Matemáticas': 6, 'Física': 4, 'Química': 5} y después muestre por pantalla los créditos de cada asignatura en el formato \\<asignatura> tiene \\<créditos> créditos, donde \\<asignatura> es cada una de las asignaturas del curso, y \\<créditos> son sus créditos. Al final debe mostrar también el número total de créditos del curso."
   ]
  },
  {
   "cell_type": "code",
   "execution_count": 13,
   "metadata": {},
   "outputs": [
    {
     "name": "stdout",
     "output_type": "stream",
     "text": [
      "Matemáticas tiene 6 creditos\n",
      "Física tiene 4 creditos\n",
      "Química tiene 5 creditos\n"
     ]
    }
   ],
   "source": [
    "# Solución\n",
    "asignaturas = {'Matemáticas': 6, 'Física': 4, 'Química': 5}\n",
    "for k,v in asignaturas.items():\n",
    "    print(f\"{k} tiene {v} creditos\")"
   ]
  },
  {
   "cell_type": "markdown",
   "metadata": {},
   "source": [
    "### Ejercicio 6\n",
    "Escribir un programa que cree un diccionario vacío y lo vaya llenado con información sobre una persona (por ejemplo nombre, edad, sexo, teléfono, correo electrónico, etc.) que se le pida al usuario. Cada vez que se añada un nuevo dato debe imprimirse el contenido del diccionario."
   ]
  },
  {
   "cell_type": "code",
   "execution_count": 15,
   "metadata": {},
   "outputs": [
    {
     "name": "stdout",
     "output_type": "stream",
     "text": [
      "{'nombre': 'Juan'}\n",
      "{'nombre': 'Juan', 'edad': '50'}\n",
      "{'nombre': 'Juan', 'edad': '50', 'sexo': 'H'}\n",
      "{'nombre': 'Juan', 'edad': '50', 'sexo': 'H', 'telefono': '55565685'}\n",
      "{'nombre': 'Juan', 'edad': '50', 'sexo': 'H', 'telefono': '55565685', 'email': 'test@test.com'}\n"
     ]
    }
   ],
   "source": [
    "# Solución\n",
    "agenda = {}\n",
    "nombre = input(\"Ingresa tú nombre\")\n",
    "agenda[\"nombre\"] = nombre\n",
    "print(agenda)\n",
    "edad = input(\"Ingresa tú edad\")\n",
    "agenda[\"edad\"] = edad\n",
    "print(agenda)\n",
    "sexo = input(\"Ingresa tú sexo\")\n",
    "agenda[\"sexo\"] = sexo\n",
    "print(agenda)\n",
    "telefono = input(\"Ingresa tú telefono\")\n",
    "agenda[\"telefono\"] = telefono\n",
    "print(agenda)\n",
    "email = input(\"Ingresa tú email\")\n",
    "agenda[\"email\"] = email\n",
    "print(agenda)\n"
   ]
  },
  {
   "cell_type": "markdown",
   "metadata": {},
   "source": [
    "### Ejercicio 7\n",
    "Escribir un programa que cree un diccionario simulando una cesta de la compra. El programa debe preguntar el artículo y su precio y añadir el par al diccionario, hasta que el usuario decida terminar. Después se debe mostrar por pantalla la lista de la compra y el coste total, con el siguiente formato:\n",
    "<center>\n",
    "\n",
    "|Lista de compras||\n",
    "|:-:|:-:|\n",
    "|Artículo 1|Precio 1|\n",
    "|Artículo 2|Precio 1|\n",
    "|Artículo 3|Precio 1|\n",
    "|...|...|\n",
    "|Total|Coste|"
   ]
  },
  {
   "cell_type": "code",
   "execution_count": 18,
   "metadata": {},
   "outputs": [
    {
     "name": "stdout",
     "output_type": "stream",
     "text": [
      "Bici - - 100.0\n",
      "carro - - 4548.0\n",
      "platano - - 12.0\n",
      "Total -- 4660.0\n"
     ]
    }
   ],
   "source": [
    "# Solución\n",
    "costo = 0\n",
    "cesta = {}\n",
    "while True:\n",
    "    articulo = input(\"Ingresa el nombre de un articulo\")\n",
    "    precio = float(input(f\"Ingresa el precio de {articulo}\"))\n",
    "    cesta[articulo] = precio\n",
    "    costo += precio\n",
    "    if \"no\" == input(\"Quires agregar otro articulo\"):\n",
    "        break\n",
    "for articulo,precio in cesta.items():\n",
    "    print(f\"{articulo} - - {precio}\")\n",
    "print(f\"Total -- {costo}\")"
   ]
  },
  {
   "cell_type": "markdown",
   "metadata": {},
   "source": [
    "### Ejercicio 8\n",
    "Escribir un programa que cree un diccionario de traducción español-inglés. El usuario introducirá las palabras en español e inglés separadas por dos puntos, y cada par \\<palabra>:\\<traducción> separados por comas. El programa debe crear un diccionario con las palabras y sus traducciones. Después pedirá una frase en español y utilizará el diccionario para traducirla palabra a palabra. Si una palabra no está en el diccionario debe dejarla sin traducir."
   ]
  },
  {
   "cell_type": "code",
   "execution_count": 32,
   "metadata": {},
   "outputs": [
    {
     "name": "stdout",
     "output_type": "stream",
     "text": [
      "six\n"
     ]
    }
   ],
   "source": [
    "# Solución\n",
    "# ejemplo: uno:one,dos:two,tres:three,cuatro:four,five:cinco,seis:six,siete:seven,ocho:eight,nuevo:nine,diez:ten\n",
    "dict_es_en = {}\n",
    "palabras = input(\"Introduce las palabras\")\n",
    "lista = palabras.split(\",\")\n",
    "for trad in lista:\n",
    "    aux = trad.split(\":\")\n",
    "    dict_es_en[aux[0]]=aux[1]\n",
    "es = input(\"ingresa un número en español\")\n",
    "print(dict_es_en.get(es,es))"
   ]
  },
  {
   "cell_type": "markdown",
   "metadata": {},
   "source": [
    "### Ejercicio 9\n",
    "Escribir un programa que gestione las facturas pendientes de cobro de una empresa. Las facturas se almacenarán en un diccionario donde la clave de cada factura será el número de factura y el valor el coste de la factura. El programa debe preguntar al usuario si quiere añadir una nueva factura, pagar una existente o terminar. Si desea añadir una nueva factura se preguntará por el número de factura y su coste y se añadirá al diccionario. Si se desea pagar una factura se preguntará por el número de factura y se eliminará del diccionario. Después de cada operación el programa debe mostrar por pantalla la cantidad cobrada hasta el momento y la cantidad pendiente de cobro."
   ]
  },
  {
   "cell_type": "code",
   "execution_count": 34,
   "metadata": {},
   "outputs": [
    {
     "name": "stdout",
     "output_type": "stream",
     "text": [
      "Recaudado: 0\n",
      "Pendiente de cobro:  0\n",
      "Recaudado: 0\n",
      "Pendiente de cobro:  100.0\n",
      "Recaudado: 0\n",
      "Pendiente de cobro:  300.0\n",
      "Recaudado: 100.0\n",
      "Pendiente de cobro:  200.0\n",
      "Recaudado: 300.0\n",
      "Pendiente de cobro:  0.0\n"
     ]
    }
   ],
   "source": [
    "# Solución\n",
    "facturas = {}\n",
    "cobrado = 0\n",
    "pendiente = 0\n",
    "opt = ''\n",
    "while opt != 'T':\n",
    "    if opt == 'A':\n",
    "        clave = input('Introduce el número de la factura: ')\n",
    "        coste = float(input('Introduce el coste de la factura: '))\n",
    "        facturas[clave] = coste\n",
    "        pendiente += coste\n",
    "    if opt == 'P':\n",
    "        clave = input('Introduce el número de la factura a pagar: ')\n",
    "        coste = facturas.pop(clave, 0)\n",
    "        cobrado += coste\n",
    "        pendiente -= coste\n",
    "    print('Recaudado:', cobrado)\n",
    "    print('Pendiente de cobro: ', pendiente)\n",
    "    opt = input('¿Quieres añadir una nueva factura (A), pagarla (P) o terminar (T)? ')\n"
   ]
  },
  {
   "cell_type": "code",
   "execution_count": null,
   "metadata": {},
   "outputs": [],
   "source": []
  }
 ],
 "metadata": {
  "kernelspec": {
   "display_name": "Python 3.9.12 ('base')",
   "language": "python",
   "name": "python3"
  },
  "language_info": {
   "codemirror_mode": {
    "name": "ipython",
    "version": 3
   },
   "file_extension": ".py",
   "mimetype": "text/x-python",
   "name": "python",
   "nbconvert_exporter": "python",
   "pygments_lexer": "ipython3",
   "version": "3.9.12"
  },
  "orig_nbformat": 4,
  "vscode": {
   "interpreter": {
    "hash": "09a5361423988323be33916b79028fd207b3fc6201bd1305bb57c30a02c00c21"
   }
  }
 },
 "nbformat": 4,
 "nbformat_minor": 2
}

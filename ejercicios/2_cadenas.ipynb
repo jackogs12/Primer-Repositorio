{
 "cells": [
  {
   "cell_type": "markdown",
   "metadata": {},
   "source": [
    "# Ejercicios de Cadenas\n"
   ]
  },
  {
   "cell_type": "markdown",
   "metadata": {},
   "source": [
    "### Ejercicio 1\n",
    "Escribir un programa que pregunte el nombre del usuario en la consola y un número entero e imprima por pantalla en líneas distintas el nombre del usuario tantas veces como el número introducido."
   ]
  },
  {
   "cell_type": "code",
   "execution_count": 1,
   "metadata": {},
   "outputs": [
    {
     "name": "stdout",
     "output_type": "stream",
     "text": [
      "Jaqueline\n",
      "Jaqueline\n",
      "Jaqueline\n",
      "Jaqueline\n",
      "Jaqueline\n",
      "\n"
     ]
    }
   ],
   "source": [
    "# Solución\n",
    "\n",
    "nombre = input(\"¿Cómo te llamas?\")\n",
    "n = input(\"Introduce un númnero entero:\")\n",
    "print((nombre + \"\\n\") * int (n))\n",
    "\n",
    "\n",
    "\n"
   ]
  },
  {
   "cell_type": "markdown",
   "metadata": {},
   "source": [
    "### Ejercicio 2\n",
    "Escribir un programa que pregunte el nombre completo del usuario en la consola y después muestre por pantalla el nombre completo del usuario tres veces, una con todas las letras minúsculas, otra con todas las letras mayúsculas y otra solo con la primera letra del nombre y de los apellidos en mayúscula. El usuario puede introducir su nombre combinando mayúsculas y minúsculas como quiera."
   ]
  },
  {
   "cell_type": "code",
   "execution_count": 2,
   "metadata": {},
   "outputs": [
    {
     "name": "stdout",
     "output_type": "stream",
     "text": [
      "jaqueline\n",
      "JAQUELINE\n",
      "Jaqueline\n"
     ]
    }
   ],
   "source": [
    "# Solución\n",
    "\n",
    "name = input(\"¿Cómo te llamas? \")\n",
    "print(name.lower())\n",
    "print(name.upper())\n",
    "print(name.title())\n"
   ]
  },
  {
   "cell_type": "markdown",
   "metadata": {},
   "source": [
    "### Ejercicio 3\n",
    "Escribir un programa que pregunte el nombre del usuario en la consola y después de que el usuario lo introduzca muestre por pantalla <span style=\"color:#66D9EF\">NOMBRE</span> tiene <span style=\"color:#66D9EF\">n</span> letras, donde <span style=\"color:#66D9EF\">NOMBRE</span> es el nombre de usuario en mayúsculas y <span style=\"color:#66D9EF\">n</span> es el número de letras que tienen el nombre."
   ]
  },
  {
   "cell_type": "code",
   "execution_count": 3,
   "metadata": {},
   "outputs": [
    {
     "name": "stdout",
     "output_type": "stream",
     "text": [
      "JAQUELINE tiene 9 letras\n"
     ]
    }
   ],
   "source": [
    "# Solución\n",
    "\n",
    "nombre = input(\"¿Cómo te llamas? \")\n",
    "print(nombre.upper() + \" tiene \" + str(len(nombre)) + \" letras\")\n"
   ]
  },
  {
   "cell_type": "markdown",
   "metadata": {},
   "source": [
    "### Ejercicio 4\n",
    "Escribir un programa que pida al usuario que introduzca una frase en la consola y muestre por pantalla la frase invertida."
   ]
  },
  {
   "cell_type": "code",
   "execution_count": 4,
   "metadata": {},
   "outputs": [
    {
     "name": "stdout",
     "output_type": "stream",
     "text": [
      "dadicileF\n"
     ]
    }
   ],
   "source": [
    "# Solución\n",
    "\n",
    "frase = input(\"Introduce una frase: \")\n",
    "print(frase[::-1])\n",
    "\n"
   ]
  },
  {
   "cell_type": "markdown",
   "metadata": {},
   "source": [
    "### Ejercicio 5\n",
    "Escribir un programa que pida al usuario que introduzca una frase en la consola y una vocal, y después muestre por pantalla la misma frase pero con la vocal introducida en mayúscula."
   ]
  },
  {
   "cell_type": "code",
   "execution_count": 7,
   "metadata": {},
   "outputs": [
    {
     "name": "stdout",
     "output_type": "stream",
     "text": [
      "hey\n"
     ]
    }
   ],
   "source": [
    "# Solución\n",
    "\n",
    "frase = input(\"Introduce una frase: \")\n",
    "vocal = input(\"Introduce una vocal en minúscula:  \")\n",
    "print(frase.replace(vocal, vocal.upper()))\n",
    "\n"
   ]
  },
  {
   "cell_type": "markdown",
   "metadata": {},
   "source": [
    "### Ejercicio 6\n",
    "Escribir un programa que pregunte el correo electrónico del usuario en la consola y muestre por pantalla otro correo electrónico con el mismo nombre (la parte delante de la arroba @) pero con dominio <span style=\"color:#66D9EF\">test.com.mx</span>."
   ]
  },
  {
   "cell_type": "code",
   "execution_count": 9,
   "metadata": {},
   "outputs": [
    {
     "name": "stdout",
     "output_type": "stream",
     "text": [
      "jackogs12@test.com.mx\n"
     ]
    }
   ],
   "source": [
    "# Solución\n",
    "\n",
    "email = input(\"Introduce tu correo electrónico: \")\n",
    "print(email[:email.find('@')] + '@test.com.mx')\n",
    "\n"
   ]
  },
  {
   "cell_type": "markdown",
   "metadata": {},
   "source": [
    "### Ejercicio 7\n",
    "Escribir un programa que pregunte por consola el precio de un producto en pesos con dos decimales y muestre por pantalla el número de pesos y el número de centavos del precio introducido."
   ]
  },
  {
   "cell_type": "code",
   "execution_count": 11,
   "metadata": {},
   "outputs": [
    {
     "name": "stdout",
     "output_type": "stream",
     "text": [
      "52 pesos y 30 centavos.\n"
     ]
    }
   ],
   "source": [
    "# Solución\n",
    "\n",
    "\n",
    "precio = input(\"Introduce el precio del producto con dos decimales:  \")\n",
    "print(precio[:precio.find('.')], 'pesos y', precio[precio.find('.')+1:], 'centavos.')\n"
   ]
  },
  {
   "cell_type": "markdown",
   "metadata": {},
   "source": [
    "### Ejercicio 8\n",
    "Escribir un programa que pregunte al usuario la fecha de su nacimiento en formato dd/mm/aaaa y muestra por pantalla, el día, el mes y el año. Adaptar el programa anterior para que también funcione cuando el día o el mes se introduzcan con un solo carácter."
   ]
  },
  {
   "cell_type": "code",
   "execution_count": 12,
   "metadata": {},
   "outputs": [
    {
     "name": "stdout",
     "output_type": "stream",
     "text": [
      "Día 09\n",
      "Mes 03\n",
      "Año 1987\n"
     ]
    }
   ],
   "source": [
    "# Solución\n",
    "\n",
    "fecha = input(\"Introduce la fecha de tu nacimiento en formato día/mes/año: \")\n",
    "dia = fecha[:fecha.find('/')]\n",
    "mesaño = fecha[fecha.find('/')+1:]\n",
    "mes = mesaño[:mesaño.find('/')]\n",
    "año = mesaño[mesaño.find('/')+1:]\n",
    "print('Día', dia)\n",
    "print('Mes', mes)\n",
    "print('Año', año)\n",
    "\n"
   ]
  },
  {
   "cell_type": "markdown",
   "metadata": {},
   "source": [
    "### Ejercicio 9\n",
    "Escribir un programa que pregunte por consola por los productos de un carrito de compras, separados por comas, y muestre por pantalla cada uno de los productos en una línea distinta"
   ]
  },
  {
   "cell_type": "code",
   "execution_count": 14,
   "metadata": {},
   "outputs": [
    {
     "name": "stdout",
     "output_type": "stream",
     "text": [
      "leche\n",
      "huevo\n",
      "pollo\n",
      "pan\n"
     ]
    }
   ],
   "source": [
    "# Solución\n",
    "\n",
    "cesta = input('Introduce los productos de la cesta de la compra separados por comas: ')\n",
    "print(cesta.replace(',', '\\n'))\n",
    "\n"
   ]
  },
  {
   "cell_type": "markdown",
   "metadata": {},
   "source": [
    "### Ejercicio 10\n",
    "Escribir un programa que pregunte el nombre el un producto, su precio y un número de unidades y muestre por pantalla una cadena con el nombre del producto seguido de su precio unitario  y el coste total con 2 decimales."
   ]
  },
  {
   "cell_type": "code",
   "execution_count": 15,
   "metadata": {},
   "outputs": [
    {
     "name": "stdout",
     "output_type": "stream",
     "text": [
      "carne:   2 unidades x     95.00$ =      190.00$\n"
     ]
    }
   ],
   "source": [
    "# Solución\n",
    "\n",
    "producto = input('Introduce el nombre del producto: ')\n",
    "precio = float(input('Introducde el precio unitario: '))\n",
    "unidades = int(input('Introduce el número de unidades: '))\n",
    "print('{producto}: {unidades:3d} unidades x {precio:9.2f}$ = {total:11.2f}$'.format(producto = producto, unidades = unidades, precio = precio, total = unidades * precio))\n"
   ]
  }
 ],
 "metadata": {
  "kernelspec": {
   "display_name": "Python 3.10.4 64-bit",
   "language": "python",
   "name": "python3"
  },
  "language_info": {
   "codemirror_mode": {
    "name": "ipython",
    "version": 3
   },
   "file_extension": ".py",
   "mimetype": "text/x-python",
   "name": "python",
   "nbconvert_exporter": "python",
   "pygments_lexer": "ipython3",
   "version": "3.10.4"
  },
  "orig_nbformat": 4,
  "vscode": {
   "interpreter": {
    "hash": "52634da84371cba311ea128a5ea7cdc41ff074b781779e754b270ff9f8153cee"
   }
  }
 },
 "nbformat": 4,
 "nbformat_minor": 2
}

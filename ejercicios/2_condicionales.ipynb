{
 "cells": [
  {
   "cell_type": "markdown",
   "metadata": {},
   "source": [
    "# Ejercicios: Estructura condicional"
   ]
  },
  {
   "cell_type": "markdown",
   "metadata": {},
   "source": [
    "### Ejercicio 1\n",
    "Escribir un programa que pregunte al usuario su edad y muestre por pantalla si es mayor de edad o no."
   ]
  },
  {
   "cell_type": "code",
   "execution_count": 6,
   "metadata": {},
   "outputs": [
    {
     "name": "stdout",
     "output_type": "stream",
     "text": [
      "Mayor de Edad\n"
     ]
    }
   ],
   "source": [
    "# Solución\n",
    "\n",
    "edad = int(input(\"¿Cual es tu edad?\"))\n",
    "if edad < 18:\n",
    "    print(\"Menor de Edad\")\n",
    "else:\n",
    "    print(\"Mayor de Edad\")\n",
    "    "
   ]
  },
  {
   "cell_type": "markdown",
   "metadata": {},
   "source": [
    "### Ejercicio 2\n",
    "Escribir un programa que almacene una <span style=\"color:#66D9EF\">contraseña</span> en una variable, pregunte al usuario por la <span style=\"color:#66D9EF\">contraseña</span> e imprima por pantalla si la <span style=\"color:#66D9EF\">contraseña</span> introducida por el usuario coincide con la guardada en la variable sin tener en cuenta mayúsculas y minúsculas."
   ]
  },
  {
   "cell_type": "code",
   "execution_count": 9,
   "metadata": {},
   "outputs": [
    {
     "name": "stdout",
     "output_type": "stream",
     "text": [
      "Las contraseñas coinciden\n"
     ]
    }
   ],
   "source": [
    "# Solución\n",
    "\n",
    "a = \"contraseña\"\n",
    "password = input(\"¿Cuál es tu contraseña?\")\n",
    "if a == password.lower():\n",
    "    print(\"Las contraseñas coinciden\")\n",
    "else:\n",
    "    print(\"Las contrseñas no coinciden\")\n",
    "    \n",
    "\n"
   ]
  },
  {
   "cell_type": "markdown",
   "metadata": {},
   "source": [
    "### Ejercicio 3\n",
    "Escribir un programa que pida al usuario dos números y muestre por pantalla su división. Si el divisor es cero el programa debe mostrar un error."
   ]
  },
  {
   "cell_type": "code",
   "execution_count": 12,
   "metadata": {},
   "outputs": [
    {
     "name": "stdout",
     "output_type": "stream",
     "text": [
      "4.0\n"
     ]
    }
   ],
   "source": [
    "# Solución\n",
    "\n",
    "numero_1 = float(input(\"Ingresa el primer número\"))\n",
    "numero_2 = float(input(\"ingesa el segundo número\"))\n",
    "if numero_1 == 0:\n",
    "    print(\"Error: No se puede dividir entre 0\")\n",
    "else:\n",
    "    print(numero_1/numero_2)"
   ]
  },
  {
   "cell_type": "markdown",
   "metadata": {},
   "source": [
    "### Ejercicio 4\n",
    "Escribir un programa que pida al usuario un número entero y muestre por pantalla si es par o impar."
   ]
  },
  {
   "cell_type": "code",
   "execution_count": 14,
   "metadata": {},
   "outputs": [
    {
     "name": "stdout",
     "output_type": "stream",
     "text": [
      "El número es impar\n"
     ]
    }
   ],
   "source": [
    "# Solución\n",
    "\n",
    "n = int(input(\"Ingresa un número entero\"))\n",
    "if n % 2 == 0:\n",
    "    print(\"El número es par\")\n",
    "else:\n",
    "    print(\"El número es impar\")"
   ]
  },
  {
   "cell_type": "markdown",
   "metadata": {},
   "source": [
    "### Ejercicio 5\n",
    "Para pagar un determinado impuesto se debe ser mayor de 16 años y tener unos ingresos iguales o superiores a $5000 mensuales. Escribir un programa que pregunte al usuario su edad y sus ingresos mensuales y muestre por pantalla si el usuario tiene que pagar o no."
   ]
  },
  {
   "cell_type": "code",
   "execution_count": 17,
   "metadata": {},
   "outputs": [
    {
     "name": "stdout",
     "output_type": "stream",
     "text": [
      "Paga tus Impuestos\n"
     ]
    }
   ],
   "source": [
    "# Solución\n",
    "\n",
    "edad = int(input(\"¿Cual es tu edad?\"))\n",
    "pago_impuestos = float(input(\"Cuáles son tus ingresos mensuales\"))\n",
    "if edad > 16 and pago_impuestos >= 5000:\n",
    "    print(\"Paga tus Impuestos\")\n",
    "else:\n",
    "    print(\"Libre de Impuestos\")"
   ]
  },
  {
   "cell_type": "markdown",
   "metadata": {},
   "source": [
    "### Ejercicio 6\n",
    "Los alumnos de un curso se han dividido en dos grupos A y B de acuerdo al sexo y el nombre. El grupo A esta formado por las mujeres con un nombre anterior a la M y los hombres con un nombre posterior a la N y el grupo B por el resto. Escribir un programa que pregunte al usuario su nombre y sexo, y muestre por pantalla el grupo que le corresponde."
   ]
  },
  {
   "cell_type": "code",
   "execution_count": 24,
   "metadata": {},
   "outputs": [
    {
     "name": "stdout",
     "output_type": "stream",
     "text": [
      "Hola\n"
     ]
    }
   ],
   "source": [
    "n = \"Llfonso\"\n",
    "\n",
    "if(n[0]<\"M\"):\n",
    "    print(\"Hola\")"
   ]
  },
  {
   "cell_type": "code",
   "execution_count": 32,
   "metadata": {},
   "outputs": [
    {
     "name": "stdout",
     "output_type": "stream",
     "text": [
      "Grupo B\n"
     ]
    }
   ],
   "source": [
    "# Solución\n",
    "\n",
    "nombre = (input(\"¿Cuál es tu Nombre?\"))\n",
    "sexo = (input(\"¿Cuál es tu Sexo (F/M)?\"))\n",
    "if ((sexo == \"F\" and nombre[0]<\"M\") or (sexo == \"M\" and nombre[0]>\"N\")):\n",
    "    print(\" Grupo A\")\n",
    "else:\n",
    "    print(\"Grupo B\")"
   ]
  },
  {
   "cell_type": "markdown",
   "metadata": {},
   "source": [
    "### Ejercicio 7\n",
    "En una determinada empresa, sus empleados son evaluados al final de cada año. Los puntos que pueden obtener en la evaluación comienzan en 0.0 y pueden ir aumentando, traduciéndose en mejores beneficios. Los puntos que pueden conseguir los empleados pueden ser 0.0, 0.4, 0.6 o más, pero no valores intermedios entre las cifras mencionadas. A continuación se muestra una tabla con los niveles correspondientes a cada puntuación. La cantidad de dinero conseguida en cada nivel es de $2,400 multiplicada por la puntuación del nivel.  \n",
    "<center>\n",
    "\n",
    "|Nivel|Puntuación|\n",
    "|:-:|:-:|\n",
    "|Inaceptable|0.0|\n",
    "|Aceptable|0.4|\n",
    "|Reconocimiento|0.6 o más|\n",
    "\n",
    "</center>\n",
    "Escribir un programa que lea la puntuación del usuario e indique su nivel de rendimiento, así como la cantidad de dinero que recibirá el usuario."
   ]
  },
  {
   "cell_type": "code",
   "execution_count": 44,
   "metadata": {},
   "outputs": [
    {
     "name": "stdout",
     "output_type": "stream",
     "text": [
      "Tu bonificación es\n"
     ]
    }
   ],
   "source": [
    "# Solución\n",
    "\n",
    "bono = 2400\n",
    "inaceptable = 0.0\n",
    "aceptable = 0.4\n",
    "reconocimiento = 0.6\n",
    "puntuación = float(input(\"Ingresa la puntuación\"))\n",
    "if (puntuación == inaceptable ):\n",
    "    cobro = 0\n",
    "elif (puntuación == aceptable):\n",
    "    cobro = (bono * aceptable)\n",
    "elif (puntuación == reconocimiento):\n",
    "    cobro = (bono * reconocimiento)\n",
    "else:\n",
    "    print(\"Tu bonificación es\", \"$\", cobro)"
   ]
  },
  {
   "cell_type": "markdown",
   "metadata": {},
   "source": [
    "### Ejercicio 8\n",
    "Escribir un programa para una empresa que tiene salas de juegos para todas las edades y quiere calcular de forma automática el precio que debe cobrar a sus clientes por entrar. El programa debe preguntar al usuario la edad del cliente y mostrar el precio de la entrada. Si el cliente es menor de 4 años puede entrar gratis, si tiene entre 4 y 18 años debe pagar $5 y si es mayor de 18 años, $10."
   ]
  },
  {
   "cell_type": "code",
   "execution_count": 46,
   "metadata": {},
   "outputs": [
    {
     "name": "stdout",
     "output_type": "stream",
     "text": [
      "El precio de la entrada es $ 5\n"
     ]
    }
   ],
   "source": [
    "# Solución\n",
    "\n",
    "edad = int (input(\"Ingresa tu edad\"))\n",
    "if edad < 4:\n",
    "    precio = \"gratis\"\n",
    "elif edad <= 18:\n",
    "    precio = 5\n",
    "else:\n",
    "    precio = 10\n",
    "# Mostrar precio\n",
    "print(\"El precio de la entrada es\", \"$\", precio)\n"
   ]
  },
  {
   "cell_type": "markdown",
   "metadata": {},
   "source": [
    "### Ejercicio 9\n",
    "La pizzería Planeta ofrece pizzas vegetarianas y no vegetarianas a sus clientes. Los ingredientes para cada tipo de pizza aparecen a continuación.  \n",
    "\n",
    "* Vegetarianos: Pimiento y tofu.  \n",
    "* No vegetarianos: Peperoni, Jamón y Salmón.  \n",
    "\n",
    "Escribir un programa que pregunte al usuario si quiere una pizza vegetariana o no, y en función de su respuesta le muestre un menú con los ingredientes disponibles para que elija. Solo se puede eligir un ingrediente además de la mozzarella y el tomate que están en todas la pizzas. Al final se debe mostrar por pantalla si la pizza elegida es vegetariana o no y todos los ingredientes que lleva.\n",
    "\n",
    "\n"
   ]
  },
  {
   "cell_type": "code",
   "execution_count": null,
   "metadata": {},
   "outputs": [],
   "source": [
    "# Solución\n",
    "\n",
    "opción = (input(Elige tu opción (v/nv)))\n",
    "if opción == \"v\":\n",
    "    print(\"Vegetarianos:Pimienta y tofu\")\n",
    "if opción == \"nv\":\n",
    "    print(\"No vegetarianos:Peperoni, Jamón y Salmón\")\n",
    "        \n",
    "else:\n",
    "    print(\"Grupo B\")\n",
    "    \n",
    "    if tipo == \"1\":\n",
    "    print(\"Ingredientes de pizzas vegetarianas\\n\\t 1- Pimiento\\n\\t2- Tofu\\n\")\n",
    "    ingrediente = input(\"Introduce el ingrediente que deseas: \")\n",
    "    print(\"Pizza vegetariana con mozzarella, tomate y \", end=\"\")\n",
    "    if ingrediente == \"1\":\n",
    "        print(\"pimiento\")\n",
    "    else: \n",
    "        print(\"tofu\")\n",
    "else:\n",
    "    print(\"Ingredientes de pizzas no vegetarianas\\n\\t1- Peperoni\\n\\t2- Jamón\\n\\t3- Salmón\\n\")\n",
    "    ingrediente = input(\"Introduce el ingrediente que deseas: \")\n",
    "    print(\"Pizza no vegetarina con mozarrella, tomate y \", end=\"\")\n",
    "    if ingrediente == \"1\":\n",
    "        print(\"peperoni\")\n",
    "    elif ingrediente == \"2\":\n",
    "        print(\"jamón\")\n",
    "    else:\n",
    "        print(\"salmón\")\n"
   ]
  }
 ],
 "metadata": {
  "kernelspec": {
   "display_name": "Python 3.10.5 64-bit (system)",
   "language": "python",
   "name": "python3"
  },
  "language_info": {
   "codemirror_mode": {
    "name": "ipython",
    "version": 3
   },
   "file_extension": ".py",
   "mimetype": "text/x-python",
   "name": "python",
   "nbconvert_exporter": "python",
   "pygments_lexer": "ipython3",
   "version": "3.10.5"
  },
  "orig_nbformat": 4,
  "vscode": {
   "interpreter": {
    "hash": "77abe205c72c096294b3a4a26264acecc5dbf8fb16ba6ed375b92e4d65784221"
   }
  }
 },
 "nbformat": 4,
 "nbformat_minor": 2
}

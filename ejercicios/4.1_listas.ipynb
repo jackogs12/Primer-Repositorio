{
 "cells": [
  {
   "cell_type": "markdown",
   "metadata": {},
   "source": [
    "# Ejercicios Listas"
   ]
  },
  {
   "cell_type": "markdown",
   "metadata": {},
   "source": [
    "### Ejercicio 1\n",
    "Escribir un programa que almacene las asignaturas de un curso (por ejemplo Matemáticas, Física, Química, Historia y Lengua) en una lista y la muestre por pantalla."
   ]
  },
  {
   "cell_type": "code",
   "execution_count": 1,
   "metadata": {},
   "outputs": [
    {
     "name": "stdout",
     "output_type": "stream",
     "text": [
      "['Matemáticas', 'Física', 'Química', 'Historía', 'Lengua']\n"
     ]
    }
   ],
   "source": [
    "# Solución\n",
    "\n",
    "\n",
    "asignaturas = [\"Matemáticas\",\"Física\",\"Química\",\"Historía\",\"Lengua\"]\n",
    "print(asignaturas)"
   ]
  },
  {
   "cell_type": "markdown",
   "metadata": {},
   "source": [
    "### Ejercicio 2\n",
    "Escribir un programa que almacene las asignaturas de un curso (por ejemplo Matemáticas, Física, Química, Historia y Lengua) en una lista y la muestre por pantalla el mensaje Yo estudio &lt;asignatura>, donde &lt;asignatura> es cada una de las asignaturas de la lista."
   ]
  },
  {
   "cell_type": "code",
   "execution_count": 4,
   "metadata": {},
   "outputs": [
    {
     "name": "stdout",
     "output_type": "stream",
     "text": [
      "Yo estudio Matemáticas\n",
      "Yo estudio Física\n",
      "Yo estudio Química\n",
      "Yo estudio Historía\n",
      "Yo estudio Lengua\n"
     ]
    }
   ],
   "source": [
    "# Solución\n",
    "\n",
    "asignaturas = [\"Matemáticas\",\"Física\",\"Química\",\"Historía\",\"Lengua\"]\n",
    "for asignatura in asignaturas:\n",
    "    print(\"Yo estudio\", asignatura)\n"
   ]
  },
  {
   "cell_type": "markdown",
   "metadata": {},
   "source": [
    "### Ejercicio 3\n",
    "Escribir un programa que almacene las asignaturas de un curso (por ejemplo Matemáticas, Física, Química, Historia y Lengua) en una lista, pregunte al usuario la nota que ha sacado en cada asignatura, y después las muestre por pantalla con el mensaje En &lt;asignatura> has sacado &lt;nota> donde &lt;asignatura> es cada una des las asignaturas de la lista y &lt;nota> cada una de las correspondientes notas introducidas por el usuario."
   ]
  },
  {
   "cell_type": "code",
   "execution_count": 43,
   "metadata": {},
   "outputs": [
    {
     "name": "stdout",
     "output_type": "stream",
     "text": [
      "En Matemáticas  has sacado  10.0\n",
      "En Física  has sacado  10.0\n",
      "En Química  has sacado  10.0\n",
      "En Historia  has sacado  10.0\n",
      "En Lengua  has sacado  10.0\n"
     ]
    }
   ],
   "source": [
    "# Solución 1\n",
    "\n",
    "asignaturas = [\"Matemáticas\", \"Física\", \"Química\", \"Historia\", \"Lengua\"]\n",
    "notas = []\n",
    "for asignatura in asignaturas:\n",
    "    nota = float(input(f\" Que nota has sacado en {asignatura}\" ))\n",
    "    notas.append((asignatura,nota))\n",
    "for asignatura in notas:\n",
    "    print(f\"En {asignatura[0]}  has sacado  {asignatura[1]}\")"
   ]
  },
  {
   "cell_type": "code",
   "execution_count": 45,
   "metadata": {},
   "outputs": [
    {
     "name": "stdout",
     "output_type": "stream",
     "text": [
      "['Matemáticas', 'Física', 'Química', 'Historia', 'Lengua']\n",
      "En Matemáticas  has sacado  10.0\n",
      "En Física  has sacado  8.0\n",
      "En Química  has sacado  9.0\n",
      "En Historia  has sacado  7.0\n",
      "En Lengua  has sacado  54.0\n",
      "[('Matemáticas', 10.0), ('Física', 8.0), ('Química', 9.0), ('Historia', 7.0), ('Lengua', 54.0)]\n"
     ]
    }
   ],
   "source": [
    "asignaturas = [\"Matemáticas\", \"Física\", \"Química\", \"Historia\", \"Lengua\"]\n",
    "print(asignaturas)\n",
    "for i in range(len(asignaturas)):\n",
    "    nota = float(input(f\" Que nota has sacado en {asignaturas[i]}\" ))\n",
    "    aux = asignaturas[i]\n",
    "    asignaturas[i]=(aux,nota)\n",
    "for i in range(len(asignaturas)):\n",
    "    print(f\"En {asignaturas[i][0]}  has sacado  {asignaturas[i][1]}\")\n",
    "    \n",
    "print(asignaturas)"
   ]
  },
  {
   "cell_type": "markdown",
   "metadata": {},
   "source": [
    "### Ejercicio 4\n",
    "Escribir un programa que pregunte al usuario los números ganadores de la lotería primitiva, los almacene en una lista y los muestre por pantalla ordenados de menor a mayor."
   ]
  },
  {
   "cell_type": "code",
   "execution_count": null,
   "metadata": {},
   "outputs": [],
   "source": [
    "# solucion\n",
    "\n"
   ]
  },
  {
   "cell_type": "markdown",
   "metadata": {},
   "source": [
    "### Ejercicio 5\n",
    "Escribir un programa que almacene en una lista los números del 1 al 10 y los muestre por pantalla en orden inverso separados por comas."
   ]
  },
  {
   "cell_type": "code",
   "execution_count": 7,
   "metadata": {},
   "outputs": [
    {
     "name": "stdout",
     "output_type": "stream",
     "text": [
      "10, 9, 8, 7, 6, 5, 4, 3, 2, 1, "
     ]
    }
   ],
   "source": [
    "# Solución\n",
    "\n",
    "numbers = [1, 2, 3, 4, 5, 6, 7, 8, 9, 10]\n",
    "numbers.reverse()\n",
    "for number in numbers:\n",
    "    print(number, end=\", \")"
   ]
  },
  {
   "cell_type": "markdown",
   "metadata": {},
   "source": [
    "### Ejercicio 6\n",
    "Escribir un programa que almacene las asignaturas de un curso (por ejemplo Matemáticas, Física, Química, Historia y Lengua) en una lista, pregunte al usuario la nota que ha sacado en cada asignatura y elimine de la lista las asignaturas aprobadas. Al final el programa debe mostrar por pantalla las asignaturas que el usuario tiene que repetir."
   ]
  },
  {
   "cell_type": "code",
   "execution_count": 9,
   "metadata": {},
   "outputs": [
    {
     "name": "stdout",
     "output_type": "stream",
     "text": [
      "Tienes que repetir ['Lengua']\n"
     ]
    }
   ],
   "source": [
    "# Solución\n",
    "\n",
    "subjects = [\"Matemáticas\", \"Física\", \"Química\", \"Historia\", \"Lengua\"]\n",
    "passed = []\n",
    "for subject in subjects:\n",
    "    score = float(input(\"¿Qué nota has sacado en \" + subject + \"?\"))\n",
    "    if score >= 5:\n",
    "        passed.append(subject)\n",
    "for subject in passed:\n",
    "    subjects.remove(subject)\n",
    "print(\"Tienes que repetir \" + str(subjects))"
   ]
  },
  {
   "cell_type": "markdown",
   "metadata": {},
   "source": [
    "### Ejercicio 7\n",
    "Escribir un programa que almacene el abecedario en una lista, elimine de la lista las letras que ocupen posiciones múltiplos de 3, y muestre por pantalla la lista resultante."
   ]
  },
  {
   "cell_type": "code",
   "execution_count": 10,
   "metadata": {},
   "outputs": [
    {
     "name": "stdout",
     "output_type": "stream",
     "text": [
      "['a', 'b', 'd', 'e', 'g', 'h', 'j', 'k', 'm', 'n', 'o', 'p', 'r', 's', 'u', 'v', 'x', 'y']\n"
     ]
    }
   ],
   "source": [
    "# Solución\n",
    "\n",
    "alphabet = ['a', 'b', 'c', 'd', 'e', 'f', 'g', 'h', 'i', 'j', 'k', 'l', 'm', 'n', 'ñ', 'o', 'p', 'q', 'r', 's', 't', 'u', 'v', 'w', 'x', 'y', 'z']\n",
    "for i in range(len(alphabet), 1, -1):\n",
    "    if i % 3 == 0:\n",
    "        alphabet.pop(i-1)\n",
    "print(alphabet)"
   ]
  },
  {
   "cell_type": "markdown",
   "metadata": {},
   "source": [
    "### Ejercicio 8\n",
    "Escribir un programa que pida al usuario una palabra y muestre por pantalla si es un palíndromo."
   ]
  },
  {
   "cell_type": "code",
   "execution_count": 11,
   "metadata": {},
   "outputs": [
    {
     "name": "stdout",
     "output_type": "stream",
     "text": [
      "No es un palíndromo\n"
     ]
    }
   ],
   "source": [
    "# Solución\n",
    "\n",
    "word = input(\"Introduce una palabra: \")\n",
    "reversed_word = word\n",
    "word = list(word)\n",
    "reversed_word = list(reversed_word)\n",
    "reversed_word.reverse()\n",
    "if word == reversed_word:\n",
    "    print(\"Es un palíndromo\")\n",
    "else:\n",
    "    print(\"No es un palíndromo\")"
   ]
  },
  {
   "cell_type": "markdown",
   "metadata": {},
   "source": [
    "### Ejercicio 9\n",
    "Escribir un programa que pida al usuario una palabra y muestre por pantalla el número de veces que contiene cada vocal."
   ]
  },
  {
   "cell_type": "code",
   "execution_count": 12,
   "metadata": {},
   "outputs": [
    {
     "name": "stdout",
     "output_type": "stream",
     "text": [
      "La vocal a aparece 1 veces\n",
      "La vocal e aparece 0 veces\n",
      "La vocal i aparece 1 veces\n",
      "La vocal o aparece 2 veces\n",
      "La vocal u aparece 0 veces\n"
     ]
    }
   ],
   "source": [
    "# Solución\n",
    "\n",
    "word = input(\"Introduce una palabra: \")\n",
    "vocals = ['a', 'e', 'i', 'o', 'u']\n",
    "for vocal in vocals: \n",
    "    times = 0\n",
    "    for letter in word: \n",
    "        if letter == vocal:\n",
    "            times += 1\n",
    "    print(\"La vocal \" + vocal + \" aparece \" + str(times) + \" veces\")"
   ]
  },
  {
   "cell_type": "markdown",
   "metadata": {},
   "source": [
    "### Ejercicio 10\n",
    "Escribir un programa que almacene en una lista los siguientes precios, 50, 75, 46, 22, 80, 65, 8, y muestre por pantalla el menor y el mayor de los precios."
   ]
  },
  {
   "cell_type": "code",
   "execution_count": 13,
   "metadata": {},
   "outputs": [
    {
     "name": "stdout",
     "output_type": "stream",
     "text": [
      "El mínimo es 8\n",
      "El máximo es 80\n"
     ]
    }
   ],
   "source": [
    "# Solución\n",
    "\n",
    "# https://aprendeconalf.es/docencia/python/ejercicios/listas-tuplas/\n",
    "\n",
    "prices = [50, 75, 46, 22, 80, 65, 8]\n",
    "min = max = prices[0]\n",
    "for price in prices:\n",
    "    if price < min:\n",
    "        min = price\n",
    "    elif price > max:\n",
    "        max = price \n",
    "print(\"El mínimo es \" + str(min)) \n",
    "print(\"El máximo es \" + str(max))"
   ]
  },
  {
   "cell_type": "markdown",
   "metadata": {},
   "source": [
    "### Ejercicio 11\n",
    "Escribir un programa que almacene los vectores (1,2,3) y (-1,0,2) en dos listas y muestre por pantalla su producto escalar."
   ]
  },
  {
   "cell_type": "code",
   "execution_count": 14,
   "metadata": {},
   "outputs": [
    {
     "name": "stdout",
     "output_type": "stream",
     "text": [
      "El producto de los vectores(1, 2, 3) y (-1, 0, 2) es 5\n"
     ]
    }
   ],
   "source": [
    "# Solución\n",
    "\n",
    "a = (1, 2, 3)\n",
    "b = (-1, 0, 2)\n",
    "product = 0\n",
    "for i in range(len(a)):\n",
    "    product += a[i]*b[i]\n",
    "print(\"El producto de los vectores\" + str(a) + \" y \" + str(b) + \" es \" + str(product)) "
   ]
  },
  {
   "cell_type": "markdown",
   "metadata": {},
   "source": [
    "### Ejercicio 12\n",
    "Escribir un programa que almacene las matrices en una lista y muestre por pantalla su producto.\n",
    "Nota: Para representar matrices mediante listas usar listas anidadas, representando cada vector fila en una lista."
   ]
  },
  {
   "cell_type": "code",
   "execution_count": 15,
   "metadata": {},
   "outputs": [
    {
     "name": "stdout",
     "output_type": "stream",
     "text": [
      "(2, 5)\n",
      "(2, 11)\n"
     ]
    }
   ],
   "source": [
    "# Solución\n",
    "\n",
    "a = ((1, 2, 3),\n",
    "     (4, 5, 6))\n",
    "b = ((-1, 0),\n",
    "     (0, 1),\n",
    "     (1,1))\n",
    "result = [[0,0],\n",
    "          [0,0]]\n",
    "for i in range(len(a)):\n",
    "    for j in range(len(b[0])):\n",
    "        for k in range(len(b)):\n",
    "            result[i][j] += a[i][k] * b[k][j]\n",
    "for i in range(len(result)):\n",
    "    result[i] = tuple(result[i])\n",
    "result = tuple(result)\n",
    "for i in range(len(result)):\n",
    "    print(result[i])"
   ]
  }
 ],
 "metadata": {
  "kernelspec": {
   "display_name": "Python 3.10.5 64-bit (system)",
   "language": "python",
   "name": "python3"
  },
  "language_info": {
   "codemirror_mode": {
    "name": "ipython",
    "version": 3
   },
   "file_extension": ".py",
   "mimetype": "text/x-python",
   "name": "python",
   "nbconvert_exporter": "python",
   "pygments_lexer": "ipython3",
   "version": "3.10.5"
  },
  "orig_nbformat": 4,
  "vscode": {
   "interpreter": {
    "hash": "77abe205c72c096294b3a4a26264acecc5dbf8fb16ba6ed375b92e4d65784221"
   }
  }
 },
 "nbformat": 4,
 "nbformat_minor": 2
}

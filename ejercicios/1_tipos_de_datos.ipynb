{
 "cells": [
  {
   "cell_type": "markdown",
   "metadata": {},
   "source": [
    "# Ejercicios de Tipos de Datos Simples"
   ]
  },
  {
   "cell_type": "markdown",
   "metadata": {},
   "source": [
    "### Ejercicio 1\n",
    "Escribir un programa que muestre por pantalla la cadena <span style=\"color:#66D9EF\">¡Hola Mundo!</span>."
   ]
  },
  {
   "cell_type": "code",
   "execution_count": 1,
   "metadata": {},
   "outputs": [
    {
     "name": "stdout",
     "output_type": "stream",
     "text": [
      "Hola Mundo\n"
     ]
    }
   ],
   "source": [
    "# Solución\n",
    "a = 5                                                                     \n",
    "\n",
    "print (\"Hola Mundo\")\n",
    "\n"
   ]
  },
  {
   "cell_type": "markdown",
   "metadata": {},
   "source": [
    "### Ejercicio 2\n",
    "Escribir un programa que almacene la cadena <span style=\"color:#66D9EF\">¡Hola Mundo!</span> en una variable y luego muestre por pantalla el contenido de la variable"
   ]
  },
  {
   "cell_type": "code",
   "execution_count": 2,
   "metadata": {},
   "outputs": [
    {
     "name": "stdout",
     "output_type": "stream",
     "text": [
      "Hola Mundo\n"
     ]
    }
   ],
   "source": [
    "# Solucion\n",
    "saludo = \"Hola Mundo\"\n",
    "print (saludo)\n"
   ]
  },
  {
   "cell_type": "markdown",
   "metadata": {},
   "source": [
    "### Ejercicio 3\n",
    "Escribir un programa que pregunte el nombre del usuario en la consola y después de que el usuario lo introduzca muestre por pantalla la cadena <span style=\"color:#66D9EF \">¡Hola \\<nombre\\>!</span>, donde <span style=\"color:#66D9EF\">\\<nombre\\></span> es el nombre que el usuario haya introducido."
   ]
  },
  {
   "cell_type": "code",
   "execution_count": 6,
   "metadata": {},
   "outputs": [
    {
     "name": "stdout",
     "output_type": "stream",
     "text": [
      "Jaqueline\n"
     ]
    }
   ],
   "source": [
    "# Solución\n",
    "nombre = input(\"Introduce tu nombre: \")\n",
    "print(nombre)"
   ]
  },
  {
   "cell_type": "markdown",
   "metadata": {},
   "source": [
    "### Ejercicio 4\n",
    "Escribir un programa que muestre por pantalla el resultado de la siguiente operación aritmética:\n",
    "$$ \\left(\\frac{3+2}{2*5}\\right)^2$$"
   ]
  },
  {
   "cell_type": "code",
   "execution_count": 5,
   "metadata": {},
   "outputs": [
    {
     "name": "stdout",
     "output_type": "stream",
     "text": [
      "0.25\n"
     ]
    }
   ],
   "source": [
    "# solución\n",
    "\n",
    "l = ((3 + 2) / (2*5)) ** 2\n",
    "print(l)\n"
   ]
  },
  {
   "cell_type": "markdown",
   "metadata": {},
   "source": [
    "### Ejercicio 5\n",
    "Escribir un programa que pregunte al usuario por el número de horas trabajadas y el coste por hora. Después debe mostrar por pantalla la paga que le corresponde."
   ]
  },
  {
   "cell_type": "code",
   "execution_count": 7,
   "metadata": {},
   "outputs": [
    {
     "name": "stdout",
     "output_type": "stream",
     "text": [
      "200.0\n"
     ]
    }
   ],
   "source": [
    "# solución\n",
    "\n",
    "horas = float (input (\"Introduce horas trabajadas:\"))\n",
    "costo = float(input(\"Introducenel costo por hora\"))\n",
    "pago = horas * costo\n",
    "print(pago)"
   ]
  },
  {
   "cell_type": "code",
   "execution_count": null,
   "metadata": {},
   "outputs": [],
   "source": []
  },
  {
   "cell_type": "markdown",
   "metadata": {},
   "source": [
    "### Ejercicio 6\n",
    "Escribir un programa que lea un entero positivo, _n_, introducido por el usuario y después muestre en pantalla la suma de todos los enteros desde 1 hasta _n_ . La suma de los *n* primeros enteros positivos puede ser calculada de la siguiente forma:  \n",
    "$$suma = \\frac{n(n+1)}{2}$$"
   ]
  },
  {
   "cell_type": "code",
   "execution_count": 8,
   "metadata": {},
   "outputs": [
    {
     "name": "stdout",
     "output_type": "stream",
     "text": [
      "La suma de los primeros numeros enteros de 1 hasta1es1.0\n"
     ]
    }
   ],
   "source": [
    "# solución\n",
    "\n",
    "n = int (input (\"Introduce un número entero:\"))\n",
    "suma = n * (n+1) / 2\n",
    "print(\"La suma de los primeros numeros enteros de 1 hasta\" + str(n) + \"es\" + str (suma))"
   ]
  },
  {
   "cell_type": "markdown",
   "metadata": {},
   "source": [
    "### Ejercicio 7\n",
    "Escribir un programa que pida al usuario su peso (en kg) y estatura (en metros), calcule el índice de masa corporal y lo almacene en una variable, y muestre por pantalla la frase Tu índice de masa corporal es <span style=\"color:#66D9EF\">imc</span> donde <span style=\"color:#66D9EF\">imc</span> es el índice de masa corporal calculado redondeado con dos decimales."
   ]
  },
  {
   "cell_type": "code",
   "execution_count": 9,
   "metadata": {},
   "outputs": [
    {
     "name": "stdout",
     "output_type": "stream",
     "text": [
      "Tu índice de masa corporal es 20.0\n"
     ]
    }
   ],
   "source": [
    "# solución\n",
    "peso = input (\"¿Cuál es tu peso en kg?\")\n",
    "estatura = input (\"Introduce tu estatura en metros\")\n",
    "imc = round(float(peso)/float(estatura)**2,2)\n",
    "print(\"Tu índice de masa corporal es \" + str(imc))\n"
   ]
  },
  {
   "cell_type": "markdown",
   "metadata": {},
   "source": [
    "### Ejercicio 8\n",
    "Escribir un programa que pida al usuario dos números enteros y muestre por pantalla la <span style=\"color:#66D9EF \">n</span> entre <span style=\"color:#66D9EF \">m</span> da un cociente <span style=\"color:#66D9EF \">c</span> y un resto <span style=\"color:#66D9EF \">r</span> donde <span style=\"color:#66D9EF \">n y m</span> son los números introducidos por el usuario, y <span style=\"color:#66D9EF \">c y r</span> son el cociente y el resto de la división entera respectivamente."
   ]
  },
  {
   "cell_type": "code",
   "execution_count": 11,
   "metadata": {},
   "outputs": [
    {
     "name": "stdout",
     "output_type": "stream",
     "text": [
      "9 entre 20 da un cociente 0 y un resto 9\n"
     ]
    }
   ],
   "source": [
    "# solución\n",
    "\n",
    "n = input(\"Introduce el primer Número entero: \")\n",
    "m = input(\"Introduce el segundo Número entero\")\n",
    "print(n + \" entre \" +  m + \" da un cociente \" + str(int(n) // int(m)) + \" y un resto \" + str(int(n) % int(m)))\n"
   ]
  },
  {
   "cell_type": "markdown",
   "metadata": {},
   "source": [
    "### Ejercicio 9\n",
    "Escribir un programa que pregunte al usuario una cantidad a invertir, el interés anual y el número de años, y muestre por pantalla el capital obtenido en la inversión."
   ]
  },
  {
   "cell_type": "code",
   "execution_count": 14,
   "metadata": {},
   "outputs": [
    {
     "name": "stdout",
     "output_type": "stream",
     "text": [
      "capital es:288.33\n"
     ]
    }
   ],
   "source": [
    "# Solución\n",
    "\n",
    "cantidad = float(input(\"Introduce la cantidad a invertir\"))\n",
    "interes = float(input(\"Introduce el porcentaje del interes anual\"))\n",
    "años = int(input (\"Introduce los años a invertir\"))\n",
    "print( \"capital es:\" + str(round(cantidad * (interes / 100 + 1) ** años, 2)))"
   ]
  },
  {
   "cell_type": "markdown",
   "metadata": {},
   "source": [
    "### Ejercicio 10\n",
    "Una juguetería tiene mucho éxito en dos de sus productos: payasos y muñecas. Suele hacer venta por correo y la empresa de logística les cobra por peso de cada paquete así que deben calcular el peso de los payasos y muñecas que saldrán en cada paquete a demanda. Cada payaso pesa 112 g y cada muñeca 75 g. Escribir un programa que lea el número de payasos y muñecas vendidos en el último pedido y calcule el peso total del paquete que será enviado."
   ]
  },
  {
   "cell_type": "code",
   "execution_count": 15,
   "metadata": {},
   "outputs": [
    {
     "name": "stdout",
     "output_type": "stream",
     "text": [
      "peso_total es: 935\n",
      "peso_total es: 935\n"
     ]
    }
   ],
   "source": [
    "# Solución\n",
    "\n",
    "peso_payaso = 112\n",
    "peso_muñeca = 75\n",
    "\n",
    "p = int(input (\"Introduce el número de payasos\"))\n",
    "m = int(input (\"Introduce el número de muñecas\"))\n",
    "peso_total = peso_payaso * p + peso_muñeca * m\n",
    "print(\"peso_total es:\",peso_total )  # forma de imprimir con ,\n",
    "print(f\"peso_total es: {peso_total}\") # forma de imprimir por inyección\n"
   ]
  },
  {
   "cell_type": "markdown",
   "metadata": {},
   "source": [
    "### Ejercicio 11\n",
    "Imagina que acabas de abrir una nueva cuenta de ahorros que te ofrece el 4% de interés al año. Estos ahorros se cobran hasta finales de año. Escribir un programa que comience leyendo la cantidad de dinero depositada en la cuenta de ahorros, introducida por el usuario. Después el programa debe calcular y mostrar por pantalla la cantidad de ahorros tras el primer, segundo y tercer años. Redondear cada cantidad a dos decimales."
   ]
  },
  {
   "cell_type": "code",
   "execution_count": 16,
   "metadata": {},
   "outputs": [
    {
     "name": "stdout",
     "output_type": "stream",
     "text": [
      "Balance tras el primer año:520.0\n",
      "Balance tras el segundo año:540.8\n",
      "Balance tras el tercer año:562.43\n"
     ]
    }
   ],
   "source": [
    "# Solución\n",
    "\n",
    "inversion = float(input(\"Introduce la inversión inicial: \"))\n",
    "interes = 0.04\n",
    "balance1 = inversion * (1 + interes)\n",
    "print(\"Balance tras el primer año:\" + str(round(balance1, 2)))\n",
    "balance2 = balance1 * (1 + interes)\n",
    "print(\"Balance tras el segundo año:\" + str(round(balance2, 2)))\n",
    "balance3 = balance2 * (1 + interes)\n",
    "print(\"Balance tras el tercer año:\" + str(round(balance3, 2)))\n",
    "\n"
   ]
  },
  {
   "cell_type": "markdown",
   "metadata": {},
   "source": [
    "### Ejercicio 12\n",
    "Una panadería vende barras de pan a $3.49 cada una. El pan que no es el día tiene un descuento del 60%. Escribir un programa que comience leyendo el número de barras vendidas que no son del día. Después el programa debe mostrar el precio habitual de una barra de pan, el descuento que se le hace por no ser fresca y el coste final total."
   ]
  },
  {
   "cell_type": "code",
   "execution_count": 17,
   "metadata": {},
   "outputs": [
    {
     "name": "stdout",
     "output_type": "stream",
     "text": [
      "El coste de una barra fresca es 3.49$\n",
      "El descuento sobre una barra no fresca es 60.0%\n",
      "El coste final a pagar es 69.8$\n"
     ]
    }
   ],
   "source": [
    "# Solución\n",
    "\n",
    "barras = int(input(\"Introduce el número de barras vendidas que no son frescas: \"))\n",
    "precio = 3.49 \n",
    "descuento = 0.6\n",
    "coste = barras * precio * (1 - descuento)\n",
    "print(\"El coste de una barra fresca es \" + str(precio) + \"$\")\n",
    "print(\"El descuento sobre una barra no fresca es \" + str(descuento * 100) + \"%\")\n",
    "print(\"El coste final a pagar es \" + str(round(coste, 2)) + \"$\")"
   ]
  },
  {
   "cell_type": "code",
   "execution_count": null,
   "metadata": {},
   "outputs": [],
   "source": []
  }
 ],
 "metadata": {
  "kernelspec": {
   "display_name": "Python 3.10.4 64-bit",
   "language": "python",
   "name": "python3"
  },
  "language_info": {
   "codemirror_mode": {
    "name": "ipython",
    "version": 3
   },
   "file_extension": ".py",
   "mimetype": "text/x-python",
   "name": "python",
   "nbconvert_exporter": "python",
   "pygments_lexer": "ipython3",
   "version": "3.10.4"
  },
  "orig_nbformat": 4,
  "vscode": {
   "interpreter": {
    "hash": "52634da84371cba311ea128a5ea7cdc41ff074b781779e754b270ff9f8153cee"
   }
  }
 },
 "nbformat": 4,
 "nbformat_minor": 2
}

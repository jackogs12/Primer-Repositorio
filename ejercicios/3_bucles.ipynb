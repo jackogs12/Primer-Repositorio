{
 "cells": [
  {
   "cell_type": "markdown",
   "metadata": {},
   "source": [
    "# Ejercicios: Estructuras iterativas\n",
    "\n"
   ]
  },
  {
   "cell_type": "markdown",
   "metadata": {},
   "source": [
    "### Ejercicio 1\n",
    "Calcular la media de los números pares e impares, sólo se ingresará diez números."
   ]
  },
  {
   "cell_type": "code",
   "execution_count": 17,
   "metadata": {},
   "outputs": [
    {
     "name": "stdout",
     "output_type": "stream",
     "text": [
      "La media de los números pares es: 2.0\n"
     ]
    }
   ],
   "source": [
    "# Solución\n",
    "\n",
    "n = 10\n",
    "contp=0\n",
    "conti=0\n",
    "sumap=0\n",
    "sumai=0\n",
    "promp=0\n",
    "promi=0\n",
    "for i in range(n):\n",
    "    dato = int(input(f\"Introduce un número {i+1}\"))\n",
    "    if dato % 2 == 0:\n",
    "        sumap = sumap + dato\n",
    "        contp +=1\n",
    "    else:\n",
    "        sumai = sumai + dato\n",
    "        conti +=1\n",
    "if contp>0:\n",
    "    promp = sumap / contp\n",
    "    print(\"La media de los números pares es:\",promp)\n",
    "if 0<conti:\n",
    "    promi = sumai / conti\n",
    "    print(\"La media de los números impares es:\",promi)\n",
    "\n",
    "\n"
   ]
  },
  {
   "cell_type": "markdown",
   "metadata": {},
   "source": [
    "### Ejercicio 2\n",
    "Calcular la suma de los n primeros números."
   ]
  },
  {
   "cell_type": "code",
   "execution_count": 21,
   "metadata": {},
   "outputs": [
    {
     "name": "stdout",
     "output_type": "stream",
     "text": [
      "La suma de los 2 Primeros números es: 2\n"
     ]
    }
   ],
   "source": [
    "# Solución\n",
    "\n",
    "\n",
    "cont = 0\n",
    "suma = 0\n",
    "\n",
    "while True:\n",
    "    n = int(input(f\"Ingresa el {cont + 1}° número\"))\n",
    "    if n == 0:\n",
    "        break\n",
    "    cont = cont + 1\n",
    "    suma = suma + n\n",
    "\n",
    "print(\"La suma de los\",cont,\"Primeros números es:\", suma)\n",
    "#n = 10\n",
    "#suma = 0\n",
    "#for i in range(1, n + 1):\n",
    "#    suma +=i\n",
    "#print(suma)\n",
    "#\n",
    "#print()\n",
    "\n"
   ]
  },
  {
   "cell_type": "markdown",
   "metadata": {},
   "source": [
    "### Ejercicio 3\n",
    "Se quiere saber cuál es la ciudad con la población de más personas, son tres estados  con once ciudades, hacer un algoritmo que nos permita saber eso."
   ]
  },
  {
   "cell_type": "code",
   "execution_count": 28,
   "metadata": {},
   "outputs": [
    {
     "name": "stdout",
     "output_type": "stream",
     "text": [
      "El estado máximo es b \n",
      " La ciudad máxima es: 2 \n",
      " Con una Población máxima: 1000\n"
     ]
    }
   ],
   "source": [
    "# Solución\n",
    "\n",
    "\n",
    "pob_max = 0\n",
    "cd_max = 0\n",
    "est_max = \"\"\n",
    "for est in range(1, 4):\n",
    "    if est == 1:\n",
    "        est_a = \"a\"\n",
    "    elif est == 2:\n",
    "        est_a = \"b\"\n",
    "    else:\n",
    "        est_a = \"c\"\n",
    "    for cd in range(1, 12):\n",
    "        pob = int(input(f\"Ingresa el número de población ({est_a},{cd})\"))\n",
    "        if pob > pob_max:\n",
    "            pob_max = pob\n",
    "            cd_max = cd\n",
    "            est_max = est_a\n",
    "                \n",
    "print(\"El estado máximo es\",est_max,\"\\n\", \"La ciudad máxima es:\",cd_max,\"\\n\",\"Con una Población máxima:\",pob_max)\n",
    "\n",
    "            \n"
   ]
  },
  {
   "cell_type": "markdown",
   "metadata": {},
   "source": [
    "### Ejercicio 4\n",
    "Imprimir las tablas de multiplicar de los números del uno al nueve."
   ]
  },
  {
   "cell_type": "code",
   "execution_count": null,
   "metadata": {},
   "outputs": [],
   "source": [
    "# Solución\n",
    "\n",
    "numero = int(input(\"numero entero:\"))\n",
    "for i in range(1, 10):\n",
    "   print(f\"{i} x {numero} = {i * numero}\")"
   ]
  },
  {
   "cell_type": "markdown",
   "metadata": {},
   "source": [
    "### Ejercicio 5\n",
    "Calcular el factorial de un número."
   ]
  },
  {
   "cell_type": "code",
   "execution_count": 6,
   "metadata": {},
   "outputs": [],
   "source": [
    "# Solución\n",
    "\n",
    "def factorial (*n):\n",
    "    for x in n:\n",
    "        fac=1\n",
    "        for y in range(1,x+1):\n",
    "            fac=fac*y\n",
    "        print (fac)"
   ]
  },
  {
   "cell_type": "markdown",
   "metadata": {},
   "source": [
    "### Ejercicio 6\n",
    "Hacer un algoritmo que nos diga si un número es primo."
   ]
  },
  {
   "cell_type": "code",
   "execution_count": null,
   "metadata": {},
   "outputs": [],
   "source": [
    "# Solución\n",
    "\n"
   ]
  },
  {
   "cell_type": "markdown",
   "metadata": {},
   "source": [
    "### Ejercicio 7\n",
    "Hacer un algoritmo que nos imprima los números primos en el rango [2,N]."
   ]
  },
  {
   "cell_type": "code",
   "execution_count": null,
   "metadata": {},
   "outputs": [],
   "source": [
    "# Solución"
   ]
  },
  {
   "cell_type": "markdown",
   "metadata": {},
   "source": [
    "### Ejercicio 8\n",
    "Hacer un algoritmo que nos permita saber cuál es el número mayor y menor, se debe ingresar sólo veinte números."
   ]
  },
  {
   "cell_type": "code",
   "execution_count": null,
   "metadata": {},
   "outputs": [],
   "source": [
    "# Solución"
   ]
  },
  {
   "cell_type": "markdown",
   "metadata": {},
   "source": [
    "### Ejercicio 9\n",
    "Hacer un algoritmo para calcular la serie de Fibonacci."
   ]
  },
  {
   "cell_type": "code",
   "execution_count": null,
   "metadata": {},
   "outputs": [],
   "source": [
    "# Solución"
   ]
  },
  {
   "cell_type": "markdown",
   "metadata": {},
   "source": [
    "### Ejercicio 10\n",
    "Hacer un algoritmo para conseguir el M.C.D de un número por medio del algoritmo de Euclides."
   ]
  },
  {
   "cell_type": "code",
   "execution_count": null,
   "metadata": {},
   "outputs": [],
   "source": [
    "# Solución"
   ]
  }
 ],
 "metadata": {
  "kernelspec": {
   "display_name": "Python 3.10.5 64-bit (system)",
   "language": "python",
   "name": "python3"
  },
  "language_info": {
   "codemirror_mode": {
    "name": "ipython",
    "version": 3
   },
   "file_extension": ".py",
   "mimetype": "text/x-python",
   "name": "python",
   "nbconvert_exporter": "python",
   "pygments_lexer": "ipython3",
   "version": "3.10.5"
  },
  "orig_nbformat": 4,
  "vscode": {
   "interpreter": {
    "hash": "77abe205c72c096294b3a4a26264acecc5dbf8fb16ba6ed375b92e4d65784221"
   }
  }
 },
 "nbformat": 4,
 "nbformat_minor": 2
}

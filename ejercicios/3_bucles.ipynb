{
 "cells": [
  {
   "cell_type": "markdown",
   "metadata": {},
   "source": [
    "# Ejercicios: Estructuras iterativas\n",
    "\n"
   ]
  },
  {
   "cell_type": "markdown",
   "metadata": {},
   "source": [
    "### Ejercicio 1\n",
    "Calcular la media de los números pares e impares, sólo se ingresará diez números."
   ]
  },
  {
   "cell_type": "code",
   "execution_count": 17,
   "metadata": {},
   "outputs": [
    {
     "name": "stdout",
     "output_type": "stream",
     "text": [
      "La media de los números pares es: 2.0\n"
     ]
    }
   ],
   "source": [
    "# Solución\n",
    "\n",
    "n = 10\n",
    "contp=0\n",
    "conti=0\n",
    "sumap=0\n",
    "sumai=0\n",
    "promp=0\n",
    "promi=0\n",
    "for i in range(n):\n",
    "    dato = int(input(f\"Introduce un número {i+1}\"))\n",
    "    if dato % 2 == 0:\n",
    "        sumap = sumap + dato\n",
    "        contp +=1\n",
    "    else:\n",
    "        sumai = sumai + dato\n",
    "        conti +=1\n",
    "if contp>0:\n",
    "    promp = sumap / contp\n",
    "    print(\"La media de los números pares es:\",promp)\n",
    "if 0<conti:\n",
    "    promi = sumai / conti\n",
    "    print(\"La media de los números impares es:\",promi)\n",
    "\n",
    "\n"
   ]
  },
  {
   "cell_type": "markdown",
   "metadata": {},
   "source": [
    "### Ejercicio 2\n",
    "Calcular la suma de los n primeros números."
   ]
  },
  {
   "cell_type": "code",
   "execution_count": 21,
   "metadata": {},
   "outputs": [
    {
     "name": "stdout",
     "output_type": "stream",
     "text": [
      "La suma de los 2 Primeros números es: 2\n"
     ]
    }
   ],
   "source": [
    "# Solución\n",
    "\n",
    "\n",
    "cont = 0\n",
    "suma = 0\n",
    "\n",
    "while True:\n",
    "    n = int(input(f\"Ingresa el {cont + 1}° número\"))\n",
    "    if n == 0:\n",
    "        break\n",
    "    cont = cont + 1\n",
    "    suma = suma + n\n",
    "\n",
    "print(\"La suma de los\",cont,\"Primeros números es:\", suma)\n",
    "#n = 10\n",
    "#suma = 0\n",
    "#for i in range(1, n + 1):\n",
    "#    suma +=i\n",
    "#print(suma)\n",
    "#\n",
    "#print()\n",
    "\n"
   ]
  },
  {
   "cell_type": "markdown",
   "metadata": {},
   "source": [
    "### Ejercicio 3\n",
    "Se quiere saber cuál es la ciudad con la población de más personas, son tres estados  con once ciudades, hacer un algoritmo que nos permita saber eso."
   ]
  },
  {
   "cell_type": "code",
   "execution_count": 28,
   "metadata": {},
   "outputs": [
    {
     "name": "stdout",
     "output_type": "stream",
     "text": [
      "El estado máximo es b \n",
      " La ciudad máxima es: 2 \n",
      " Con una Población máxima: 1000\n"
     ]
    }
   ],
   "source": [
    "# Solución\n",
    "\n",
    "\n",
    "pob_max = 0\n",
    "cd_max = 0\n",
    "est_max = \"\"\n",
    "for est in range(1, 4):\n",
    "    if est == 1:\n",
    "        est_a = \"a\"\n",
    "    elif est == 2:\n",
    "        est_a = \"b\"\n",
    "    else:\n",
    "        est_a = \"c\"\n",
    "    for cd in range(1, 12):\n",
    "        pob = int(input(f\"Ingresa el número de población ({est_a},{cd})\"))\n",
    "        if pob > pob_max:\n",
    "            pob_max = pob\n",
    "            cd_max = cd\n",
    "            est_max = est_a\n",
    "                \n",
    "print(\"El estado máximo es\",est_max,\"\\n\", \"La ciudad máxima es:\",cd_max,\"\\n\",\"Con una Población máxima:\",pob_max)\n",
    "\n",
    "            \n"
   ]
  },
  {
   "cell_type": "markdown",
   "metadata": {},
   "source": [
    "### Ejercicio 4\n",
    "Imprimir las tablas de multiplicar de los números del uno al nueve."
   ]
  },
  {
   "cell_type": "code",
   "execution_count": 1,
   "metadata": {},
   "outputs": [
    {
     "name": "stdout",
     "output_type": "stream",
     "text": [
      "1 x 1 = 1\n",
      "2 x 1 = 2\n",
      "3 x 1 = 3\n",
      "4 x 1 = 4\n",
      "5 x 1 = 5\n",
      "6 x 1 = 6\n",
      "7 x 1 = 7\n",
      "8 x 1 = 8\n",
      "9 x 1 = 9\n"
     ]
    }
   ],
   "source": [
    "# Solución\n",
    "\n",
    "numero = int(input(\"numero entero:\"))\n",
    "for i in range(1, 10):\n",
    "   print(f\"{i} x {numero} = {i * numero}\")"
   ]
  },
  {
   "cell_type": "markdown",
   "metadata": {},
   "source": [
    "### Ejercicio 5\n",
    "Calcular el factorial de un número."
   ]
  },
  {
   "cell_type": "code",
   "execution_count": 4,
   "metadata": {},
   "outputs": [
    {
     "name": "stdout",
     "output_type": "stream",
     "text": [
      "Ingresa un núnmero\n",
      "El factorial de  3 es:  6\n"
     ]
    }
   ],
   "source": [
    "# Solución\n",
    "\n",
    "print(\"Ingresa un núnmero\")\n",
    "num = int(input())\n",
    "fac = 1\n",
    "for i in range(1, num+1):\n",
    "    fac *= i\n",
    "print(\"El factorial de \", num, \"es: \",fac)"
   ]
  },
  {
   "cell_type": "markdown",
   "metadata": {},
   "source": [
    "### Ejercicio 6\n",
    "Hacer un algoritmo que nos diga si un número es primo."
   ]
  },
  {
   "cell_type": "code",
   "execution_count": 18,
   "metadata": {},
   "outputs": [
    {
     "name": "stdout",
     "output_type": "stream",
     "text": [
      "El número  6  no es primo\n"
     ]
    }
   ],
   "source": [
    "# Solución\n",
    "\n",
    "n = int(input(\"Ingresa un número: \"))\n",
    "x = 1\n",
    "con = 0\n",
    "while x <= n:\n",
    "    if n % x == 0:\n",
    "        con = con + 1\n",
    "    x = x + 1\n",
    "if con == 2:\n",
    "    print(\"El número \",n,\" es primo\")\n",
    "else:\n",
    "    print(\"El número \",n,\" no es primo\")"
   ]
  },
  {
   "cell_type": "markdown",
   "metadata": {},
   "source": [
    "### Ejercicio 7\n",
    "Hacer un algoritmo que nos imprima los números primos en el rango [2,N]."
   ]
  },
  {
   "cell_type": "code",
   "execution_count": 22,
   "metadata": {},
   "outputs": [],
   "source": [
    "# Solución\n",
    "\n",
    "n = int(input(\"Ingresa un número\"))\n",
    "for num in range(2, n):\n",
    "    conta = 0\n",
    "    for i in range(2, (num//2 + 1)):\n",
    "        if(num % i == 0):\n",
    "            conta = conta + 1 \n",
    "            break\n",
    "if (conta == 9 and num != 2):\n",
    "    print(\"%d\" %num, end = '')\n"
   ]
  },
  {
   "cell_type": "markdown",
   "metadata": {},
   "source": [
    "### Ejercicio 8\n",
    "Hacer un algoritmo que nos permita saber cuál es el número mayor y menor, se debe ingresar sólo veinte números."
   ]
  },
  {
   "cell_type": "code",
   "execution_count": 24,
   "metadata": {},
   "outputs": [
    {
     "name": "stdout",
     "output_type": "stream",
     "text": [
      "lista:  [20.0]\n",
      "mayor:  20.0\n",
      "menor: 20.0\n",
      "lista:  [20.0, 10.0]\n",
      "mayor:  20.0\n",
      "menor: 10.0\n",
      "lista:  [20.0, 10.0, 20.0]\n",
      "mayor:  20.0\n",
      "menor: 10.0\n",
      "lista:  [20.0, 10.0, 20.0, 1.0]\n",
      "mayor:  20.0\n",
      "menor: 1.0\n",
      "lista:  [20.0, 10.0, 20.0, 1.0, 2.0]\n",
      "mayor:  20.0\n",
      "menor: 1.0\n",
      "lista:  [20.0, 10.0, 20.0, 1.0, 2.0, 3.0]\n",
      "mayor:  20.0\n",
      "menor: 1.0\n",
      "lista:  [20.0, 10.0, 20.0, 1.0, 2.0, 3.0, 4.0]\n",
      "mayor:  20.0\n",
      "menor: 1.0\n",
      "lista:  [20.0, 10.0, 20.0, 1.0, 2.0, 3.0, 4.0, 5.0]\n",
      "mayor:  20.0\n",
      "menor: 1.0\n",
      "lista:  [20.0, 10.0, 20.0, 1.0, 2.0, 3.0, 4.0, 5.0, 6.0]\n",
      "mayor:  20.0\n",
      "menor: 1.0\n",
      "lista:  [20.0, 10.0, 20.0, 1.0, 2.0, 3.0, 4.0, 5.0, 6.0, 7.0]\n",
      "mayor:  20.0\n",
      "menor: 1.0\n",
      "lista:  [20.0, 10.0, 20.0, 1.0, 2.0, 3.0, 4.0, 5.0, 6.0, 7.0, 8.0]\n",
      "mayor:  20.0\n",
      "menor: 1.0\n",
      "lista:  [20.0, 10.0, 20.0, 1.0, 2.0, 3.0, 4.0, 5.0, 6.0, 7.0, 8.0, 9.0]\n",
      "mayor:  20.0\n",
      "menor: 1.0\n",
      "lista:  [20.0, 10.0, 20.0, 1.0, 2.0, 3.0, 4.0, 5.0, 6.0, 7.0, 8.0, 9.0, 10.0]\n",
      "mayor:  20.0\n",
      "menor: 1.0\n",
      "lista:  [20.0, 10.0, 20.0, 1.0, 2.0, 3.0, 4.0, 5.0, 6.0, 7.0, 8.0, 9.0, 10.0, 11.0]\n",
      "mayor:  20.0\n",
      "menor: 1.0\n",
      "lista:  [20.0, 10.0, 20.0, 1.0, 2.0, 3.0, 4.0, 5.0, 6.0, 7.0, 8.0, 9.0, 10.0, 11.0, 12.0]\n",
      "mayor:  20.0\n",
      "menor: 1.0\n",
      "lista:  [20.0, 10.0, 20.0, 1.0, 2.0, 3.0, 4.0, 5.0, 6.0, 7.0, 8.0, 9.0, 10.0, 11.0, 12.0, 13.0]\n",
      "mayor:  20.0\n",
      "menor: 1.0\n",
      "lista:  [20.0, 10.0, 20.0, 1.0, 2.0, 3.0, 4.0, 5.0, 6.0, 7.0, 8.0, 9.0, 10.0, 11.0, 12.0, 13.0, 14.0]\n",
      "mayor:  20.0\n",
      "menor: 1.0\n",
      "lista:  [20.0, 10.0, 20.0, 1.0, 2.0, 3.0, 4.0, 5.0, 6.0, 7.0, 8.0, 9.0, 10.0, 11.0, 12.0, 13.0, 14.0, 15.0]\n",
      "mayor:  20.0\n",
      "menor: 1.0\n",
      "lista:  [20.0, 10.0, 20.0, 1.0, 2.0, 3.0, 4.0, 5.0, 6.0, 7.0, 8.0, 9.0, 10.0, 11.0, 12.0, 13.0, 14.0, 15.0, 16.0]\n",
      "mayor:  20.0\n",
      "menor: 1.0\n",
      "lista:  [20.0, 10.0, 20.0, 1.0, 2.0, 3.0, 4.0, 5.0, 6.0, 7.0, 8.0, 9.0, 10.0, 11.0, 12.0, 13.0, 14.0, 15.0, 16.0, 17.0]\n",
      "mayor:  20.0\n",
      "menor: 1.0\n"
     ]
    }
   ],
   "source": [
    "# Solución\n",
    "\n",
    "lista =19\n",
    " []\n",
    "cantidad = int(input(\"Ingresa cantidad de números:\"))\n",
    "mayor = 0\n",
    "menor = 0\n",
    "i = 1\n",
    "while (cantidad > 0):\n",
    "    numero = float(input(\"número #\"  + str(i) + \": \"))\n",
    "    lista.append (numero)\n",
    "    i = i + 1\n",
    "    cantidad = cantidad - 1\n",
    "    mayor = max(lista)\n",
    "    menor = min(lista)\n",
    "    print(\"lista: \", lista)\n",
    "    print(\"mayor: \", mayor)\n",
    "    print(\"menor:\", menor)"
   ]
  },
  {
   "cell_type": "markdown",
   "metadata": {},
   "source": [
    "### Ejercicio 9\n",
    "Hacer un algoritmo para calcular la serie de Fibonacci."
   ]
  },
  {
   "cell_type": "code",
   "execution_count": 25,
   "metadata": {},
   "outputs": [
    {
     "name": "stdout",
     "output_type": "stream",
     "text": [
      "[0, 1, 1, 2, 3, 5, 8, 13, 21, 34, 55, 89, 144, 233, 377, 610, 987, 1597, 2584, 4181]\n"
     ]
    }
   ],
   "source": [
    "# Solución\n",
    "n = 20    # número de términos de la serie\n",
    "fibo = [0, 1]\n",
    "for i in range (n-2):\n",
    "    fibo.append(fibo[-1] + fibo[-2])\n",
    "print(fibo)"
   ]
  },
  {
   "cell_type": "markdown",
   "metadata": {},
   "source": [
    "### Ejercicio 10\n",
    "Hacer un algoritmo para conseguir el M.C.D de un número por medio del algoritmo de Euclides."
   ]
  },
  {
   "cell_type": "code",
   "execution_count": 28,
   "metadata": {},
   "outputs": [
    {
     "name": "stdout",
     "output_type": "stream",
     "text": [
      "El MCD de 60.0 y 8.0 = 4.0\n"
     ]
    }
   ],
   "source": [
    "# Solución\n",
    "\n",
    "num1 = float(input(\" Ingresa orimer número : \"))\n",
    "num2 = float(input(\" Ingres segundo número : \"))\n",
    "\n",
    "a = num1\n",
    "b = num2\n",
    "\n",
    "while(num2 != 0):\n",
    "    temp = num2\n",
    "    num2 = num1 % num2\n",
    "    num1 = temp\n",
    "\n",
    "mcd = num1   \n",
    "print(\"El MCD de {0} y {1} = {2}\".format(a, b, mcd))"
   ]
  }
 ],
 "metadata": {
  "kernelspec": {
   "display_name": "Python 3.10.5 64-bit (system)",
   "language": "python",
   "name": "python3"
  },
  "language_info": {
   "codemirror_mode": {
    "name": "ipython",
    "version": 3
   },
   "file_extension": ".py",
   "mimetype": "text/x-python",
   "name": "python",
   "nbconvert_exporter": "python",
   "pygments_lexer": "ipython3",
   "version": "3.10.5"
  },
  "orig_nbformat": 4,
  "vscode": {
   "interpreter": {
    "hash": "77abe205c72c096294b3a4a26264acecc5dbf8fb16ba6ed375b92e4d65784221"
   }
  }
 },
 "nbformat": 4,
 "nbformat_minor": 2
}
